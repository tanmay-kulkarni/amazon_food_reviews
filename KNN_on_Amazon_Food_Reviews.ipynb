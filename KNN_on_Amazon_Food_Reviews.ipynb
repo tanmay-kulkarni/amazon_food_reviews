{
  "nbformat": 4,
  "nbformat_minor": 0,
  "metadata": {
    "colab": {
      "name": "KNN on Amazon Food Reviews.ipynb",
      "version": "0.3.2",
      "provenance": [],
      "collapsed_sections": []
    },
    "kernelspec": {
      "name": "python3",
      "display_name": "Python 3"
    },
    "accelerator": "GPU"
  },
  "cells": [
    {
      "metadata": {
        "id": "wUZaOs0M24Z1",
        "colab_type": "text"
      },
      "cell_type": "markdown",
      "source": [
        "# Objective:\n",
        "\n",
        "**To classify food reviews into positive or negative using K Nearest Neghbors algorithm.**\n",
        "\n",
        "This is a continuation of my ongoing study of the Amazon Food Reviews data available on Kaggle. Let's see how KNN performs on this dataset. As usual, let's begin by importing the libraries we need."
      ]
    },
    {
      "metadata": {
        "id": "9c3JYceecJ2x",
        "colab_type": "code",
        "colab": {}
      },
      "cell_type": "code",
      "source": [
        "import pandas as pd\n",
        "import matplotlib.pyplot as plt\n",
        "import numpy as np\n",
        "import seaborn as sbn\n",
        "from google.colab import drive\n",
        "import os\n",
        "import sqlite3"
      ],
      "execution_count": 0,
      "outputs": []
    },
    {
      "metadata": {
        "id": "kBWKKDSmc_fi",
        "colab_type": "text"
      },
      "cell_type": "markdown",
      "source": [
        "Connect to google drive to load the cleaned dataframe."
      ]
    },
    {
      "metadata": {
        "id": "fyQaTBHodMGL",
        "colab_type": "code",
        "colab": {}
      },
      "cell_type": "code",
      "source": [
        "drive.mount('/gdrive')"
      ],
      "execution_count": 0,
      "outputs": []
    },
    {
      "metadata": {
        "id": "ZGlKXLhF38FS",
        "colab_type": "text"
      },
      "cell_type": "markdown",
      "source": [
        "I had stored a dataframe with cleaned text reviews from the last excercise on my Google Drive. So there's no need to perform data cleaning again. The column 'cleaned_text' is free from stopwords, punctuation marks, HTML tags, and duplicate entries.\n",
        "\n",
        "I simply need to load it. Let's do that by connecting this Google Colab environment with my Google Drive."
      ]
    },
    {
      "metadata": {
        "id": "dCnEIyjQdTfp",
        "colab_type": "code",
        "colab": {
          "base_uri": "https://localhost:8080/",
          "height": 156
        },
        "outputId": "31965683-d411-4534-adb0-181fc823e9f3"
      },
      "cell_type": "code",
      "source": [
        "os.listdir('/gdrive/My Drive/amazon')"
      ],
      "execution_count": 4,
      "outputs": [
        {
          "output_type": "execute_result",
          "data": {
            "text/plain": [
              "['avg_w2v_nparray_3kcorpus_50dim.pkl',\n",
              " 'pickled_3k_reviews_tsne_tfidf_1gram.pkl',\n",
              " 'pickled_3k_reviews_tsne_bigram.pkl',\n",
              " 'X_scaled_standardized_3k_bigram_bow_nparray.pkl',\n",
              " 'pickled_3k_reviews_tsne_bow.pkl',\n",
              " 'reviews_cleaned_final.sqlite',\n",
              " 'database_deduplicated.sqlite',\n",
              " 'database.sqlite']"
            ]
          },
          "metadata": {
            "tags": []
          },
          "execution_count": 4
        }
      ]
    },
    {
      "metadata": {
        "id": "BqemSbdQd1e6",
        "colab_type": "code",
        "colab": {
          "base_uri": "https://localhost:8080/",
          "height": 438
        },
        "outputId": "847e69f4-73e0-4f9c-f01f-576171e8e94b"
      },
      "cell_type": "code",
      "source": [
        "con = sqlite3.connect('/gdrive/My Drive/amazon/reviews_cleaned_final.sqlite')\n",
        "df_full_clean = pd.read_sql('select * from Reviews;', con)\n",
        "df_full_clean.head(3)"
      ],
      "execution_count": 5,
      "outputs": [
        {
          "output_type": "execute_result",
          "data": {
            "text/html": [
              "<div>\n",
              "<style scoped>\n",
              "    .dataframe tbody tr th:only-of-type {\n",
              "        vertical-align: middle;\n",
              "    }\n",
              "\n",
              "    .dataframe tbody tr th {\n",
              "        vertical-align: top;\n",
              "    }\n",
              "\n",
              "    .dataframe thead th {\n",
              "        text-align: right;\n",
              "    }\n",
              "</style>\n",
              "<table border=\"1\" class=\"dataframe\">\n",
              "  <thead>\n",
              "    <tr style=\"text-align: right;\">\n",
              "      <th></th>\n",
              "      <th>index</th>\n",
              "      <th>Id</th>\n",
              "      <th>ProductId</th>\n",
              "      <th>UserId</th>\n",
              "      <th>ProfileName</th>\n",
              "      <th>HelpfulnessNumerator</th>\n",
              "      <th>HelpfulnessDenominator</th>\n",
              "      <th>Score</th>\n",
              "      <th>Time</th>\n",
              "      <th>Summary</th>\n",
              "      <th>Text</th>\n",
              "      <th>cleaned_text</th>\n",
              "    </tr>\n",
              "  </thead>\n",
              "  <tbody>\n",
              "    <tr>\n",
              "      <th>0</th>\n",
              "      <td>0</td>\n",
              "      <td>1</td>\n",
              "      <td>B001E4KFG0</td>\n",
              "      <td>A3SGXH7AUHU8GW</td>\n",
              "      <td>delmartian</td>\n",
              "      <td>1</td>\n",
              "      <td>1</td>\n",
              "      <td>positive</td>\n",
              "      <td>1303862400</td>\n",
              "      <td>Good Quality Dog Food</td>\n",
              "      <td>I have bought several of the Vitality canned d...</td>\n",
              "      <td>b'bought sever vital can dog food product foun...</td>\n",
              "    </tr>\n",
              "    <tr>\n",
              "      <th>1</th>\n",
              "      <td>1</td>\n",
              "      <td>2</td>\n",
              "      <td>B00813GRG4</td>\n",
              "      <td>A1D87F6ZCVE5NK</td>\n",
              "      <td>dll pa</td>\n",
              "      <td>0</td>\n",
              "      <td>0</td>\n",
              "      <td>negative</td>\n",
              "      <td>1346976000</td>\n",
              "      <td>Not as Advertised</td>\n",
              "      <td>Product arrived labeled as Jumbo Salted Peanut...</td>\n",
              "      <td>b'product arriv label jumbo salt peanut peanut...</td>\n",
              "    </tr>\n",
              "    <tr>\n",
              "      <th>2</th>\n",
              "      <td>2</td>\n",
              "      <td>3</td>\n",
              "      <td>B000LQOCH0</td>\n",
              "      <td>ABXLMWJIXXAIN</td>\n",
              "      <td>Natalia Corres \"Natalia Corres\"</td>\n",
              "      <td>1</td>\n",
              "      <td>1</td>\n",
              "      <td>positive</td>\n",
              "      <td>1219017600</td>\n",
              "      <td>\"Delight\" says it all</td>\n",
              "      <td>This is a confection that has been around a fe...</td>\n",
              "      <td>b'confect around centuri light pillowi citru g...</td>\n",
              "    </tr>\n",
              "  </tbody>\n",
              "</table>\n",
              "</div>"
            ],
            "text/plain": [
              "   index  Id   ProductId          UserId                      ProfileName  \\\n",
              "0      0   1  B001E4KFG0  A3SGXH7AUHU8GW                       delmartian   \n",
              "1      1   2  B00813GRG4  A1D87F6ZCVE5NK                           dll pa   \n",
              "2      2   3  B000LQOCH0   ABXLMWJIXXAIN  Natalia Corres \"Natalia Corres\"   \n",
              "\n",
              "   HelpfulnessNumerator  HelpfulnessDenominator     Score        Time  \\\n",
              "0                     1                       1  positive  1303862400   \n",
              "1                     0                       0  negative  1346976000   \n",
              "2                     1                       1  positive  1219017600   \n",
              "\n",
              "                 Summary                                               Text  \\\n",
              "0  Good Quality Dog Food  I have bought several of the Vitality canned d...   \n",
              "1      Not as Advertised  Product arrived labeled as Jumbo Salted Peanut...   \n",
              "2  \"Delight\" says it all  This is a confection that has been around a fe...   \n",
              "\n",
              "                                        cleaned_text  \n",
              "0  b'bought sever vital can dog food product foun...  \n",
              "1  b'product arriv label jumbo salt peanut peanut...  \n",
              "2  b'confect around centuri light pillowi citru g...  "
            ]
          },
          "metadata": {
            "tags": []
          },
          "execution_count": 5
        }
      ]
    },
    {
      "metadata": {
        "id": "XtcPgtqhfRRc",
        "colab_type": "text"
      },
      "cell_type": "markdown",
      "source": [
        "### Sorting by Timestamp\n",
        "\n",
        "The reviews are likely to have a temporal structure. If we train our model on randomly sampled data, this structural information will be lost. Therefore, sort the dataframe by timestamp and select a subset from it from a contiguous timespan."
      ]
    },
    {
      "metadata": {
        "id": "Vi8e30vdemRk",
        "colab_type": "code",
        "colab": {
          "base_uri": "https://localhost:8080/",
          "height": 451
        },
        "outputId": "dc521842-4b52-4f08-e8da-e0aa0a53d1bd"
      },
      "cell_type": "code",
      "source": [
        "df_full_clean.sort_values(by=['Time'], ascending=True, inplace=True)\n",
        "df_full_clean.head(4)"
      ],
      "execution_count": 6,
      "outputs": [
        {
          "output_type": "execute_result",
          "data": {
            "text/html": [
              "<div>\n",
              "<style scoped>\n",
              "    .dataframe tbody tr th:only-of-type {\n",
              "        vertical-align: middle;\n",
              "    }\n",
              "\n",
              "    .dataframe tbody tr th {\n",
              "        vertical-align: top;\n",
              "    }\n",
              "\n",
              "    .dataframe thead th {\n",
              "        text-align: right;\n",
              "    }\n",
              "</style>\n",
              "<table border=\"1\" class=\"dataframe\">\n",
              "  <thead>\n",
              "    <tr style=\"text-align: right;\">\n",
              "      <th></th>\n",
              "      <th>index</th>\n",
              "      <th>Id</th>\n",
              "      <th>ProductId</th>\n",
              "      <th>UserId</th>\n",
              "      <th>ProfileName</th>\n",
              "      <th>HelpfulnessNumerator</th>\n",
              "      <th>HelpfulnessDenominator</th>\n",
              "      <th>Score</th>\n",
              "      <th>Time</th>\n",
              "      <th>Summary</th>\n",
              "      <th>Text</th>\n",
              "      <th>cleaned_text</th>\n",
              "    </tr>\n",
              "  </thead>\n",
              "  <tbody>\n",
              "    <tr>\n",
              "      <th>117924</th>\n",
              "      <td>138706</td>\n",
              "      <td>150524</td>\n",
              "      <td>0006641040</td>\n",
              "      <td>ACITT7DI6IDDL</td>\n",
              "      <td>shari zychinski</td>\n",
              "      <td>0</td>\n",
              "      <td>0</td>\n",
              "      <td>positive</td>\n",
              "      <td>939340800</td>\n",
              "      <td>EVERY book is educational</td>\n",
              "      <td>this witty little book makes my son laugh at l...</td>\n",
              "      <td>b'witti littl book make son laugh loud recit c...</td>\n",
              "    </tr>\n",
              "    <tr>\n",
              "      <th>117901</th>\n",
              "      <td>138683</td>\n",
              "      <td>150501</td>\n",
              "      <td>0006641040</td>\n",
              "      <td>AJ46FKXOVC7NR</td>\n",
              "      <td>Nicholas A Mesiano</td>\n",
              "      <td>2</td>\n",
              "      <td>2</td>\n",
              "      <td>positive</td>\n",
              "      <td>940809600</td>\n",
              "      <td>This whole series is great way to spend time w...</td>\n",
              "      <td>I can remember seeing the show when it aired o...</td>\n",
              "      <td>b'rememb see show air televis year ago child s...</td>\n",
              "    </tr>\n",
              "    <tr>\n",
              "      <th>298792</th>\n",
              "      <td>417839</td>\n",
              "      <td>451856</td>\n",
              "      <td>B00004CXX9</td>\n",
              "      <td>AIUWLEQ1ADEG5</td>\n",
              "      <td>Elizabeth Medina</td>\n",
              "      <td>0</td>\n",
              "      <td>0</td>\n",
              "      <td>positive</td>\n",
              "      <td>944092800</td>\n",
              "      <td>Entertainingl Funny!</td>\n",
              "      <td>Beetlejuice is a well written movie ..... ever...</td>\n",
              "      <td>b'beetlejuic well written movi everyth excel a...</td>\n",
              "    </tr>\n",
              "    <tr>\n",
              "      <th>169281</th>\n",
              "      <td>212472</td>\n",
              "      <td>230285</td>\n",
              "      <td>B00004RYGX</td>\n",
              "      <td>A344SMIA5JECGM</td>\n",
              "      <td>Vincent P. Ross</td>\n",
              "      <td>1</td>\n",
              "      <td>2</td>\n",
              "      <td>positive</td>\n",
              "      <td>944438400</td>\n",
              "      <td>A modern day fairy tale</td>\n",
              "      <td>A twist of rumplestiskin captured on film, sta...</td>\n",
              "      <td>b'twist rumplestiskin captur film star michael...</td>\n",
              "    </tr>\n",
              "  </tbody>\n",
              "</table>\n",
              "</div>"
            ],
            "text/plain": [
              "         index      Id   ProductId          UserId         ProfileName  \\\n",
              "117924  138706  150524  0006641040   ACITT7DI6IDDL     shari zychinski   \n",
              "117901  138683  150501  0006641040   AJ46FKXOVC7NR  Nicholas A Mesiano   \n",
              "298792  417839  451856  B00004CXX9   AIUWLEQ1ADEG5    Elizabeth Medina   \n",
              "169281  212472  230285  B00004RYGX  A344SMIA5JECGM     Vincent P. Ross   \n",
              "\n",
              "        HelpfulnessNumerator  HelpfulnessDenominator     Score       Time  \\\n",
              "117924                     0                       0  positive  939340800   \n",
              "117901                     2                       2  positive  940809600   \n",
              "298792                     0                       0  positive  944092800   \n",
              "169281                     1                       2  positive  944438400   \n",
              "\n",
              "                                                  Summary  \\\n",
              "117924                          EVERY book is educational   \n",
              "117901  This whole series is great way to spend time w...   \n",
              "298792                               Entertainingl Funny!   \n",
              "169281                            A modern day fairy tale   \n",
              "\n",
              "                                                     Text  \\\n",
              "117924  this witty little book makes my son laugh at l...   \n",
              "117901  I can remember seeing the show when it aired o...   \n",
              "298792  Beetlejuice is a well written movie ..... ever...   \n",
              "169281  A twist of rumplestiskin captured on film, sta...   \n",
              "\n",
              "                                             cleaned_text  \n",
              "117924  b'witti littl book make son laugh loud recit c...  \n",
              "117901  b'rememb see show air televis year ago child s...  \n",
              "298792  b'beetlejuic well written movi everyth excel a...  \n",
              "169281  b'twist rumplestiskin captur film star michael...  "
            ]
          },
          "metadata": {
            "tags": []
          },
          "execution_count": 6
        }
      ]
    },
    {
      "metadata": {
        "id": "kA9v6lY_fyTz",
        "colab_type": "text"
      },
      "cell_type": "markdown",
      "source": [
        "The data is now sorted by time. Since this is a huge database, I'll have to sample only a small fraction of it, due to hardware limitations. "
      ]
    },
    {
      "metadata": {
        "id": "LmnxWACifqFH",
        "colab_type": "code",
        "colab": {
          "base_uri": "https://localhost:8080/",
          "height": 312
        },
        "outputId": "ab1d4e9b-cc51-48d6-c57a-660ff5f4e9e9"
      },
      "cell_type": "code",
      "source": [
        "df_full_clean.info()"
      ],
      "execution_count": 7,
      "outputs": [
        {
          "output_type": "stream",
          "text": [
            "<class 'pandas.core.frame.DataFrame'>\n",
            "Int64Index: 364171 entries, 117924 to 107253\n",
            "Data columns (total 12 columns):\n",
            "index                     364171 non-null int64\n",
            "Id                        364171 non-null int64\n",
            "ProductId                 364171 non-null object\n",
            "UserId                    364171 non-null object\n",
            "ProfileName               364171 non-null object\n",
            "HelpfulnessNumerator      364171 non-null int64\n",
            "HelpfulnessDenominator    364171 non-null int64\n",
            "Score                     364171 non-null object\n",
            "Time                      364171 non-null int64\n",
            "Summary                   364171 non-null object\n",
            "Text                      364171 non-null object\n",
            "cleaned_text              364171 non-null object\n",
            "dtypes: int64(5), object(7)\n",
            "memory usage: 36.1+ MB\n"
          ],
          "name": "stdout"
        }
      ]
    },
    {
      "metadata": {
        "id": "TEmxuFGgnV48",
        "colab_type": "text"
      },
      "cell_type": "markdown",
      "source": [
        "There are 364k reviews in the dataframe. Let's select the first 10,000 reviews."
      ]
    },
    {
      "metadata": {
        "id": "EI3gxXmInjV-",
        "colab_type": "code",
        "colab": {
          "base_uri": "https://localhost:8080/",
          "height": 156
        },
        "outputId": "021961d3-f55b-40db-be96-7fcbd78274f1"
      },
      "cell_type": "code",
      "source": [
        "df = df_full_clean[:10000][['Time', 'cleaned_text', 'Score']]\n",
        "df.info()"
      ],
      "execution_count": 96,
      "outputs": [
        {
          "output_type": "stream",
          "text": [
            "<class 'pandas.core.frame.DataFrame'>\n",
            "Int64Index: 10000 entries, 117924 to 59994\n",
            "Data columns (total 3 columns):\n",
            "Time            10000 non-null int64\n",
            "cleaned_text    10000 non-null object\n",
            "Score           10000 non-null object\n",
            "dtypes: int64(1), object(2)\n",
            "memory usage: 312.5+ KB\n"
          ],
          "name": "stdout"
        }
      ]
    },
    {
      "metadata": {
        "id": "B9AKZq6Cns0a",
        "colab_type": "code",
        "colab": {
          "base_uri": "https://localhost:8080/",
          "height": 202
        },
        "outputId": "c5de8dcd-82ed-4976-a714-7f851ecd4fae"
      },
      "cell_type": "code",
      "source": [
        "df.head()"
      ],
      "execution_count": 97,
      "outputs": [
        {
          "output_type": "execute_result",
          "data": {
            "text/html": [
              "<div>\n",
              "<style scoped>\n",
              "    .dataframe tbody tr th:only-of-type {\n",
              "        vertical-align: middle;\n",
              "    }\n",
              "\n",
              "    .dataframe tbody tr th {\n",
              "        vertical-align: top;\n",
              "    }\n",
              "\n",
              "    .dataframe thead th {\n",
              "        text-align: right;\n",
              "    }\n",
              "</style>\n",
              "<table border=\"1\" class=\"dataframe\">\n",
              "  <thead>\n",
              "    <tr style=\"text-align: right;\">\n",
              "      <th></th>\n",
              "      <th>Time</th>\n",
              "      <th>cleaned_text</th>\n",
              "      <th>Score</th>\n",
              "    </tr>\n",
              "  </thead>\n",
              "  <tbody>\n",
              "    <tr>\n",
              "      <th>117924</th>\n",
              "      <td>939340800</td>\n",
              "      <td>b'witti littl book make son laugh loud recit c...</td>\n",
              "      <td>positive</td>\n",
              "    </tr>\n",
              "    <tr>\n",
              "      <th>117901</th>\n",
              "      <td>940809600</td>\n",
              "      <td>b'rememb see show air televis year ago child s...</td>\n",
              "      <td>positive</td>\n",
              "    </tr>\n",
              "    <tr>\n",
              "      <th>298792</th>\n",
              "      <td>944092800</td>\n",
              "      <td>b'beetlejuic well written movi everyth excel a...</td>\n",
              "      <td>positive</td>\n",
              "    </tr>\n",
              "    <tr>\n",
              "      <th>169281</th>\n",
              "      <td>944438400</td>\n",
              "      <td>b'twist rumplestiskin captur film star michael...</td>\n",
              "      <td>positive</td>\n",
              "    </tr>\n",
              "    <tr>\n",
              "      <th>298791</th>\n",
              "      <td>946857600</td>\n",
              "      <td>b'beetlejuic excel funni movi keaton hilari wa...</td>\n",
              "      <td>positive</td>\n",
              "    </tr>\n",
              "  </tbody>\n",
              "</table>\n",
              "</div>"
            ],
            "text/plain": [
              "             Time                                       cleaned_text     Score\n",
              "117924  939340800  b'witti littl book make son laugh loud recit c...  positive\n",
              "117901  940809600  b'rememb see show air televis year ago child s...  positive\n",
              "298792  944092800  b'beetlejuic well written movi everyth excel a...  positive\n",
              "169281  944438400  b'twist rumplestiskin captur film star michael...  positive\n",
              "298791  946857600  b'beetlejuic excel funni movi keaton hilari wa...  positive"
            ]
          },
          "metadata": {
            "tags": []
          },
          "execution_count": 97
        }
      ]
    },
    {
      "metadata": {
        "id": "jHF2Yjfmnvnc",
        "colab_type": "text"
      },
      "cell_type": "markdown",
      "source": [
        "Let's see how the +/- reviews are distributed. The positive reviews are expected to be more than the negative ones."
      ]
    },
    {
      "metadata": {
        "id": "gJh4YExhoe78",
        "colab_type": "code",
        "colab": {
          "base_uri": "https://localhost:8080/",
          "height": 69
        },
        "outputId": "df0e0026-ae1e-4831-8275-dd19406ba945"
      },
      "cell_type": "code",
      "source": [
        "df['Score'].value_counts()"
      ],
      "execution_count": 98,
      "outputs": [
        {
          "output_type": "execute_result",
          "data": {
            "text/plain": [
              "positive    8868\n",
              "negative    1132\n",
              "Name: Score, dtype: int64"
            ]
          },
          "metadata": {
            "tags": []
          },
          "execution_count": 98
        }
      ]
    },
    {
      "metadata": {
        "id": "DsxcKQ-5xqoy",
        "colab_type": "text"
      },
      "cell_type": "markdown",
      "source": [
        "Let's map the score column in the dataframe\n",
        "\n",
        "* positive : 1\n",
        "* negative : 0\n"
      ]
    },
    {
      "metadata": {
        "id": "Z1o8SNKLxp9I",
        "colab_type": "code",
        "colab": {}
      },
      "cell_type": "code",
      "source": [
        "df['Score'] = df['Score'].map({'positive':1,'negative':0})"
      ],
      "execution_count": 0,
      "outputs": []
    },
    {
      "metadata": {
        "id": "yjHJSB6jo3cU",
        "colab_type": "text"
      },
      "cell_type": "markdown",
      "source": [
        "## Vector Representation of Text data\n",
        "\n",
        "\n",
        "Let's convert the reviews into their vector representations. Following methods will be used to vectorize text -\n",
        "\n",
        "* BoW\n",
        "* Tfidf\n",
        "* Avg. W2V\n",
        "* Tfidf weighted W2V\n",
        "\n",
        "For BoW and Tfidf, since the number of features/dimensions will be huge, I'll test KNN first on uncompressed data (all dimensions) and then, reduce the dimensions using PCA and t-SNE and again test KNN on the new data. I'll test both **kd_tree** and **brute** algorithm in scikit-learn's implementation of KNN.\n",
        "\n",
        "### Bag of Words (BoW)"
      ]
    },
    {
      "metadata": {
        "id": "SJTyQFY-60vn",
        "colab_type": "text"
      },
      "cell_type": "markdown",
      "source": [
        "Import the required class from sklearn."
      ]
    },
    {
      "metadata": {
        "id": "KczZLIJ2pvKx",
        "colab_type": "code",
        "colab": {}
      },
      "cell_type": "code",
      "source": [
        "from sklearn.feature_extraction.text import CountVectorizer\n",
        "from sklearn.model_selection import train_test_split"
      ],
      "execution_count": 0,
      "outputs": []
    },
    {
      "metadata": {
        "id": "DxuIrjnXqBhf",
        "colab_type": "code",
        "colab": {}
      },
      "cell_type": "code",
      "source": [
        "bow = CountVectorizer()\n",
        "bow_sparse_matrix = bow.fit_transform(df['cleaned_text'].values)"
      ],
      "execution_count": 0,
      "outputs": []
    },
    {
      "metadata": {
        "id": "6Ph31UdwqnhA",
        "colab_type": "code",
        "colab": {
          "base_uri": "https://localhost:8080/",
          "height": 35
        },
        "outputId": "bc37d74c-56e8-40b2-97e1-9f70840c887b"
      },
      "cell_type": "code",
      "source": [
        "type(bow_sparse_matrix)"
      ],
      "execution_count": 102,
      "outputs": [
        {
          "output_type": "execute_result",
          "data": {
            "text/plain": [
              "scipy.sparse.csr.csr_matrix"
            ]
          },
          "metadata": {
            "tags": []
          },
          "execution_count": 102
        }
      ]
    },
    {
      "metadata": {
        "id": "evlKFH8hqqd3",
        "colab_type": "code",
        "colab": {
          "base_uri": "https://localhost:8080/",
          "height": 52
        },
        "outputId": "2a84456f-d09e-484c-a419-30d8849b60f8"
      },
      "cell_type": "code",
      "source": [
        "print('The shape of bow_sparse_matrix is: {}'.format(bow_sparse_matrix.get_shape))"
      ],
      "execution_count": 103,
      "outputs": [
        {
          "output_type": "stream",
          "text": [
            "The shape of bow_sparse_matrix is: <bound method spmatrix.get_shape of <10000x14331 sparse matrix of type '<class 'numpy.int64'>'\n",
            "\twith 312582 stored elements in Compressed Sparse Row format>>\n"
          ],
          "name": "stdout"
        }
      ]
    },
    {
      "metadata": {
        "id": "d5aqMc9jqzVI",
        "colab_type": "text"
      },
      "cell_type": "markdown",
      "source": [
        "There are 10,000 rows for 10,000 reviews as expected. The number features in 1-gram BoW representation is 14331. That's a lot!\n",
        "\n",
        "We can reduce the dimensions further by applying techniques such as PCA and t-SNE. We'll have to do that since KNN doesn't work well when the number features is in thousands.\n",
        "\n",
        "First, let's convert the sparse matrix into a dense matrix."
      ]
    },
    {
      "metadata": {
        "id": "-KPDFzccrsKw",
        "colab_type": "code",
        "colab": {}
      },
      "cell_type": "code",
      "source": [
        "bow_regular_matrix = bow_sparse_matrix.toarray()"
      ],
      "execution_count": 0,
      "outputs": []
    },
    {
      "metadata": {
        "id": "sHKlC9jdsY--",
        "colab_type": "code",
        "colab": {
          "base_uri": "https://localhost:8080/",
          "height": 35
        },
        "outputId": "3b303cd5-d44b-40a8-ce7e-e8b472f2be74"
      },
      "cell_type": "code",
      "source": [
        "bow_regular_matrix.shape"
      ],
      "execution_count": 105,
      "outputs": [
        {
          "output_type": "execute_result",
          "data": {
            "text/plain": [
              "(10000, 14331)"
            ]
          },
          "metadata": {
            "tags": []
          },
          "execution_count": 105
        }
      ]
    },
    {
      "metadata": {
        "id": "ovmyVLQssiyX",
        "colab_type": "text"
      },
      "cell_type": "markdown",
      "source": [
        "Now let's apply KNN on this dataset, without reducing the dimensions."
      ]
    },
    {
      "metadata": {
        "id": "D0haAdNOvfqj",
        "colab_type": "code",
        "colab": {}
      },
      "cell_type": "code",
      "source": [
        "from sklearn.neighbors import KNeighborsClassifier\n",
        "from sklearn.cross_validation import cross_val_score"
      ],
      "execution_count": 0,
      "outputs": []
    },
    {
      "metadata": {
        "id": "LfSYVSjSwZ81",
        "colab_type": "code",
        "colab": {
          "base_uri": "https://localhost:8080/",
          "height": 35
        },
        "outputId": "77074c60-93f0-4b88-e4e1-06477e0f16f4"
      },
      "cell_type": "code",
      "source": [
        "y = np.array(df['Score'])\n",
        "y[:10]"
      ],
      "execution_count": 107,
      "outputs": [
        {
          "output_type": "execute_result",
          "data": {
            "text/plain": [
              "array([1, 1, 1, 1, 1, 1, 0, 1, 1, 1])"
            ]
          },
          "metadata": {
            "tags": []
          },
          "execution_count": 107
        }
      ]
    },
    {
      "metadata": {
        "id": "fv8o_R0YyRu_",
        "colab_type": "code",
        "colab": {
          "base_uri": "https://localhost:8080/",
          "height": 35
        },
        "outputId": "9c7c27b7-f37d-4639-aa3b-ba441101210c"
      },
      "cell_type": "code",
      "source": [
        "y[:10]"
      ],
      "execution_count": 108,
      "outputs": [
        {
          "output_type": "execute_result",
          "data": {
            "text/plain": [
              "array([1, 1, 1, 1, 1, 1, 0, 1, 1, 1])"
            ]
          },
          "metadata": {
            "tags": []
          },
          "execution_count": 108
        }
      ]
    },
    {
      "metadata": {
        "id": "P4vV6jJpyGmA",
        "colab_type": "text"
      },
      "cell_type": "markdown",
      "source": [
        "Divide the data into training and test sets."
      ]
    },
    {
      "metadata": {
        "id": "RCf_rnJcyTmR",
        "colab_type": "code",
        "colab": {}
      },
      "cell_type": "code",
      "source": [
        "X_train, X_test, y_train, y_test = train_test_split(bow_regular_matrix, y, test_size=0.3,random_state=3,shuffle=False)"
      ],
      "execution_count": 0,
      "outputs": []
    },
    {
      "metadata": {
        "id": "lKn-3xJdzNRg",
        "colab_type": "code",
        "colab": {
          "base_uri": "https://localhost:8080/",
          "height": 87
        },
        "outputId": "828902e5-5e01-4a67-d8d1-f5b855fdf46b"
      },
      "cell_type": "code",
      "source": [
        "print('Shape of X_train is {}.'.format(X_train.shape))\n",
        "print('Shape of X_test is {}.'.format(X_test.shape))\n",
        "print('Shape of y_train is {}.'.format(y_train.shape))\n",
        "print('Shape of y_test is {}.'.format(y_test.shape))"
      ],
      "execution_count": 110,
      "outputs": [
        {
          "output_type": "stream",
          "text": [
            "Shape of X_train is (7000, 14331).\n",
            "Shape of X_test is (3000, 14331).\n",
            "Shape of y_train is (7000,).\n",
            "Shape of y_test is (3000,).\n"
          ],
          "name": "stdout"
        }
      ]
    },
    {
      "metadata": {
        "id": "8p_ILCvXz1Ek",
        "colab_type": "code",
        "colab": {
          "base_uri": "https://localhost:8080/",
          "height": 35
        },
        "outputId": "77b0d6aa-bd68-47a4-8953-34fd996094f9"
      },
      "cell_type": "code",
      "source": [
        "y_train[:10]"
      ],
      "execution_count": 111,
      "outputs": [
        {
          "output_type": "execute_result",
          "data": {
            "text/plain": [
              "array([1, 1, 1, 1, 1, 1, 0, 1, 1, 1])"
            ]
          },
          "metadata": {
            "tags": []
          },
          "execution_count": 111
        }
      ]
    },
    {
      "metadata": {
        "id": "DM7ZRTJZ7bMW",
        "colab_type": "text"
      },
      "cell_type": "markdown",
      "source": [
        "Following is a function that will give us the accuracy for a number of K values. I'll use this function several times in this notebook. The function takes training data and algorithm (kd_tree or brute) as parameters and returns a dictionary {k : accuracy}"
      ]
    },
    {
      "metadata": {
        "id": "I6wk3Ti-rDdE",
        "colab_type": "code",
        "colab": {}
      },
      "cell_type": "code",
      "source": [
        "def k_versus_accuracy(X_train, y_train, alg):\n",
        "    \n",
        "    from sklearn.neighbors import KNeighborsClassifier\n",
        "    from sklearn.cross_validation import cross_val_score\n",
        "    \n",
        "    k_vs_acc = {}\n",
        "    \n",
        "    for k in range(3,15,2):\n",
        "        \n",
        "        knn = KNeighborsClassifier(n_neighbors = k, weights = 'uniform', algorithm = alg)\n",
        "        \n",
        "        k_vs_acc[k] = np.mean(cross_val_score(knn, X_train, y_train, cv = 10))\n",
        "    \n",
        "    \n",
        "    return k_vs_acc \n",
        "    "
      ],
      "execution_count": 0,
      "outputs": []
    },
    {
      "metadata": {
        "id": "Cdnw7X_tuxaJ",
        "colab_type": "text"
      },
      "cell_type": "markdown",
      "source": [
        "Call the function for BoW without reducing any dimensions, first using the brute algorithm then kd_tree. "
      ]
    },
    {
      "metadata": {
        "id": "s_1enMCitiGd",
        "colab_type": "code",
        "colab": {
          "base_uri": "https://localhost:8080/",
          "height": 52
        },
        "outputId": "398b5710-c0f1-43d5-862d-ea6aca56a6d9"
      },
      "cell_type": "code",
      "source": [
        "k_vs_acc_uncompressed_brute_BOW = k_versus_accuracy(X_train, y_train, alg='brute')\n",
        "print('K vs Accuracy for Uncompressed Bag of Words using Brute algorithm...\\n {}'.format(k_vs_acc_uncompressed_brute_BOW))"
      ],
      "execution_count": 113,
      "outputs": [
        {
          "output_type": "stream",
          "text": [
            "K vs Accuracy for Uncompressed Bag of Words using Brute algorithm...\n",
            " {3: 0.8657142857142857, 5: 0.8825714285714286, 7: 0.8858571428571429, 9: 0.8852857142857143, 11: 0.8852857142857143, 13: 0.8847142857142856}\n"
          ],
          "name": "stdout"
        }
      ]
    },
    {
      "metadata": {
        "id": "0piTIWzazkER",
        "colab_type": "code",
        "colab": {
          "base_uri": "https://localhost:8080/",
          "height": 52
        },
        "outputId": "5cd9130e-d975-483e-f747-a1e3ce841ae3"
      },
      "cell_type": "code",
      "source": [
        "k_vs_acc_uncompressed_kd_BOW = k_versus_accuracy(X_train, y_train, alg='kd_tree')\n",
        "print('K vs Accuracy for Uncompressed Bag of Words using KD_tree algorithm...\\n {}'.format(k_vs_acc_uncompressed_kd_BOW))"
      ],
      "execution_count": 114,
      "outputs": [
        {
          "output_type": "stream",
          "text": [
            "K vs Accuracy for Uncompressed Bag of Words using KD_tree algorithm...\n",
            " {3: 0.868, 5: 0.8832857142857143, 7: 0.886142857142857, 9: 0.8848571428571429, 11: 0.885142857142857, 13: 0.8848571428571429}\n"
          ],
          "name": "stdout"
        }
      ]
    },
    {
      "metadata": {
        "id": "i0em-lqE0q73",
        "colab_type": "text"
      },
      "cell_type": "markdown",
      "source": [
        "We see that KNN on uncompressed BOW representation gives very similar accuracy for K between (3,13).\n",
        "\n",
        "Let's select a k and find the accuracy on testing data. Note that the test dataset hasn't been seen by KNN while fitting the model."
      ]
    },
    {
      "metadata": {
        "id": "eOrm0Dd_1Y0W",
        "colab_type": "code",
        "colab": {
          "base_uri": "https://localhost:8080/",
          "height": 69
        },
        "outputId": "688885c8-20be-4911-fd22-df953ba19b2d"
      },
      "cell_type": "code",
      "source": [
        "knn = KNeighborsClassifier(n_neighbors = 11, weights = 'uniform', algorithm = 'kd_tree')\n",
        "knn.fit(X_train, y_train)\n",
        "print('Accuracy for BOW | Uncompressed data')\n",
        "print('Accuracy on train data: {}'.format(knn.score(X_train, y_train)))\n",
        "print('Accuracy on test data: {}'.format(knn.score(X_test, y_test)))"
      ],
      "execution_count": 115,
      "outputs": [
        {
          "output_type": "stream",
          "text": [
            "Accuracy for BOW | Uncompressed data\n",
            "Accuracy on train data: 0.8864285714285715\n",
            "Accuracy on test data: 0.892\n"
          ],
          "name": "stdout"
        }
      ]
    },
    {
      "metadata": {
        "id": "Bb5D2-cd1xpT",
        "colab_type": "text"
      },
      "cell_type": "markdown",
      "source": [
        "Although this accuracy seems good and makes a good first impression, there is a big **caveat** with it. Our original data is heavily class imbalanced. The positive reviews are far greater in number than the negative reviews. And because KNN favors the majority class by design, it is likely misclassifying many of the negative reviews as positve. So let's take this result with a grain of salt."
      ]
    },
    {
      "metadata": {
        "id": "pGqk-MNX1vox",
        "colab_type": "text"
      },
      "cell_type": "markdown",
      "source": [
        "### Reduce dimensions of BoW using PCA\n",
        "\n",
        "Now, let's try reducing the dimensions of BoW from 14331 to 50 using PCA, and apply KNN."
      ]
    },
    {
      "metadata": {
        "id": "1YGqzMPy11iI",
        "colab_type": "code",
        "colab": {
          "base_uri": "https://localhost:8080/",
          "height": 35
        },
        "outputId": "c06f2ad8-4ae8-4c5d-95cd-c1f11eb4157f"
      },
      "cell_type": "code",
      "source": [
        "from sklearn.decomposition import PCA\n",
        "pca = PCA(n_components = 50)\n",
        "X_new_pca = pca.fit_transform(bow_regular_matrix)\n",
        "print(X_new_pca.shape)"
      ],
      "execution_count": 116,
      "outputs": [
        {
          "output_type": "stream",
          "text": [
            "(10000, 50)\n"
          ],
          "name": "stdout"
        }
      ]
    },
    {
      "metadata": {
        "id": "fPu6g7nD3fG3",
        "colab_type": "text"
      },
      "cell_type": "markdown",
      "source": [
        "Split the new data into train and test sets."
      ]
    },
    {
      "metadata": {
        "id": "R5AfDgIb3eDs",
        "colab_type": "code",
        "colab": {}
      },
      "cell_type": "code",
      "source": [
        "X_train, X_test, y_train, y_test = train_test_split(X_new_pca, y, test_size=0.3,random_state=3,shuffle=False)"
      ],
      "execution_count": 0,
      "outputs": []
    },
    {
      "metadata": {
        "id": "Cjbj-bgP2CMY",
        "colab_type": "code",
        "colab": {
          "base_uri": "https://localhost:8080/",
          "height": 52
        },
        "outputId": "acfe3361-ca67-4225-e068-bdd4b1edf894"
      },
      "cell_type": "code",
      "source": [
        "k_vs_acc_pca_brute_BOW = k_versus_accuracy(X_train, y_train, alg='brute')\n",
        "print('K vs Accuracy for PCA compressed Bag of Words using Brute algorithm...\\n {}'.format(k_vs_acc_pca_brute_BOW))"
      ],
      "execution_count": 118,
      "outputs": [
        {
          "output_type": "stream",
          "text": [
            "K vs Accuracy for PCA compressed Bag of Words using Brute algorithm...\n",
            " {3: 0.8565714285714285, 5: 0.8681428571428572, 7: 0.8737142857142859, 9: 0.8785714285714287, 11: 0.8817142857142857, 13: 0.8822857142857143}\n"
          ],
          "name": "stdout"
        }
      ]
    },
    {
      "metadata": {
        "id": "sEmDP2AV4N8o",
        "colab_type": "code",
        "colab": {
          "base_uri": "https://localhost:8080/",
          "height": 52
        },
        "outputId": "70ed8c2f-b5d6-4dea-89f0-3d2b3f94146c"
      },
      "cell_type": "code",
      "source": [
        "k_vs_acc_pca_kd_BOW = k_versus_accuracy(X_train, y_train, alg='kd_tree')\n",
        "print('K vs Accuracy for PCA compressed Bag of Words using KD_tree algorithm...\\n {}'.format(k_vs_acc_pca_kd_BOW))"
      ],
      "execution_count": 119,
      "outputs": [
        {
          "output_type": "stream",
          "text": [
            "K vs Accuracy for PCA compressed Bag of Words using KD_tree algorithm...\n",
            " {3: 0.8565714285714285, 5: 0.8681428571428572, 7: 0.8737142857142859, 9: 0.8785714285714287, 11: 0.8817142857142857, 13: 0.8822857142857143}\n"
          ],
          "name": "stdout"
        }
      ]
    },
    {
      "metadata": {
        "id": "9Rd4Tqlh4pop",
        "colab_type": "text"
      },
      "cell_type": "markdown",
      "source": [
        "Again, for data compressed using PCA, KNN gives very similar accuracies for various values of k. Let's pick one value and find the accuracy on test set now."
      ]
    },
    {
      "metadata": {
        "id": "ZNnkGllD463I",
        "colab_type": "code",
        "colab": {
          "base_uri": "https://localhost:8080/",
          "height": 69
        },
        "outputId": "acee5f53-c0ad-4af7-9a4a-05286970e27b"
      },
      "cell_type": "code",
      "source": [
        "knn = KNeighborsClassifier(n_neighbors = 13, weights = 'uniform', algorithm = 'kd_tree')\n",
        "knn.fit(X_train, y_train)\n",
        "print('Accuracy for BOW | PCA compressed data')\n",
        "print('Accuracy on train data: {}'.format(knn.score(X_train, y_train)))\n",
        "print('Accuracy on test data: {}'.format(knn.score(X_test, y_test)))"
      ],
      "execution_count": 120,
      "outputs": [
        {
          "output_type": "stream",
          "text": [
            "Accuracy for BOW | PCA compressed data\n",
            "Accuracy on train data: 0.8874285714285715\n",
            "Accuracy on test data: 0.8903333333333333\n"
          ],
          "name": "stdout"
        }
      ]
    },
    {
      "metadata": {
        "id": "upg9C3pv5HmX",
        "colab_type": "text"
      },
      "cell_type": "markdown",
      "source": [
        "Similar result as before, now let's try compressing the dimensions using t-SNE."
      ]
    },
    {
      "metadata": {
        "id": "mfBVeRKW2uaF",
        "colab_type": "text"
      },
      "cell_type": "markdown",
      "source": [
        "### BoW on t-SNE compressed data.\n",
        "\n",
        "Reducing the dimensions from 14331 in the original uncompressed data to just 3 using t-SNE. "
      ]
    },
    {
      "metadata": {
        "id": "mHj4YcZ920bQ",
        "colab_type": "code",
        "colab": {
          "base_uri": "https://localhost:8080/",
          "height": 35
        },
        "outputId": "c7bdeb36-606d-42eb-bdb8-5b9ae09344b4"
      },
      "cell_type": "code",
      "source": [
        "from sklearn.manifold import TSNE\n",
        "\n",
        "\n",
        "tsne = TSNE(n_components = 3, perplexity = 40, learning_rate = 300)\n",
        "\n",
        "X_new_tsne = tsne.fit_transform(bow_regular_matrix)\n",
        "\n",
        "print(X_new_tsne.shape)"
      ],
      "execution_count": 121,
      "outputs": [
        {
          "output_type": "stream",
          "text": [
            "(10000, 3)\n"
          ],
          "name": "stdout"
        }
      ]
    },
    {
      "metadata": {
        "id": "wxnov-166FEB",
        "colab_type": "text"
      },
      "cell_type": "markdown",
      "source": [
        "Divide t-SNE reduced data into train and test sets."
      ]
    },
    {
      "metadata": {
        "id": "RAavKNKO6EZM",
        "colab_type": "code",
        "colab": {}
      },
      "cell_type": "code",
      "source": [
        "X_train,X_test, y_train, y_test = train_test_split(X_new_tsne, y, test_size=0.3,random_state=3,shuffle=False)"
      ],
      "execution_count": 0,
      "outputs": []
    },
    {
      "metadata": {
        "id": "yoadFUql7jM7",
        "colab_type": "code",
        "colab": {
          "base_uri": "https://localhost:8080/",
          "height": 52
        },
        "outputId": "2d9a71f7-4130-46ff-adfa-523d124a0d9d"
      },
      "cell_type": "code",
      "source": [
        "k_vs_acc_tsne_brute_BOW = k_versus_accuracy(X_train, y_train, alg='brute')\n",
        "print('K vs Accuracy for t-SNE compressed Bag of Words using Brute algorithm...\\n {}'.format(k_vs_acc_tsne_brute_BOW))"
      ],
      "execution_count": 123,
      "outputs": [
        {
          "output_type": "stream",
          "text": [
            "K vs Accuracy for t-SNE compressed Bag of Words using Brute algorithm...\n",
            " {3: 0.8629999999999999, 5: 0.8742857142857142, 7: 0.8782857142857143, 9: 0.8785714285714287, 11: 0.8808571428571428, 13: 0.8827142857142858}\n"
          ],
          "name": "stdout"
        }
      ]
    },
    {
      "metadata": {
        "id": "B46_To1j7wSm",
        "colab_type": "code",
        "colab": {
          "base_uri": "https://localhost:8080/",
          "height": 52
        },
        "outputId": "cc19bd5d-9151-4f74-dd3a-b8a66e3365c8"
      },
      "cell_type": "code",
      "source": [
        "k_vs_acc_tsne_kd_BOW = k_versus_accuracy(X_train, y_train, alg='kd_tree')\n",
        "print('K vs Accuracy for t-SNE compressed Bag of Words using KD_Tree algorithm...\\n {}'.format(k_vs_acc_tsne_kd_BOW))"
      ],
      "execution_count": 124,
      "outputs": [
        {
          "output_type": "stream",
          "text": [
            "K vs Accuracy for t-SNE compressed Bag of Words using KD_Tree algorithm...\n",
            " {3: 0.8629999999999999, 5: 0.8742857142857142, 7: 0.8782857142857143, 9: 0.8785714285714287, 11: 0.8808571428571428, 13: 0.8827142857142858}\n"
          ],
          "name": "stdout"
        }
      ]
    },
    {
      "metadata": {
        "id": "SmC7DmuX8BCE",
        "colab_type": "text"
      },
      "cell_type": "markdown",
      "source": [
        "Now, let's calculate test accuracies."
      ]
    },
    {
      "metadata": {
        "id": "1H0-qGMZ8GLP",
        "colab_type": "code",
        "colab": {
          "base_uri": "https://localhost:8080/",
          "height": 69
        },
        "outputId": "e164e125-b2b1-4b79-fd30-9b055ad1240e"
      },
      "cell_type": "code",
      "source": [
        "knn = KNeighborsClassifier(n_neighbors = 9, weights = 'uniform', algorithm = 'kd_tree')\n",
        "knn.fit(X_train, y_train)\n",
        "print('Accuracy for BOW | t-SNE compressed data')\n",
        "print('Accuracy on train data: {}'.format(knn.score(X_train, y_train)))\n",
        "print('Accuracy on test data: {}'.format(knn.score(X_test, y_test)))"
      ],
      "execution_count": 125,
      "outputs": [
        {
          "output_type": "stream",
          "text": [
            "Accuracy for BOW | t-SNE compressed data\n",
            "Accuracy on train data: 0.8885714285714286\n",
            "Accuracy on test data: 0.8926666666666667\n"
          ],
          "name": "stdout"
        }
      ]
    },
    {
      "metadata": {
        "id": "-5foFMjV8Yll",
        "colab_type": "text"
      },
      "cell_type": "markdown",
      "source": [
        "***Now, let me plot my findings to summarize the KNN models trained on BOW.***"
      ]
    },
    {
      "metadata": {
        "id": "840aLBmrvheT",
        "colab_type": "code",
        "colab": {
          "base_uri": "https://localhost:8080/",
          "height": 437
        },
        "outputId": "030fd7fc-71b7-4595-e4b0-688ab008e37d"
      },
      "cell_type": "code",
      "source": [
        "plt.figure(figsize=(15,6))\n",
        "plt.subplot(2, 3, 1)\n",
        "plt.title('BOW | Uncompressed | Brute')\n",
        "plt.plot(list(k_vs_acc_uncompressed_brute_BOW.keys()), list(k_vs_acc_uncompressed_brute_BOW.values()), marker='o')\n",
        "plt.xticks([3,5,7,9,11,13])\n",
        "plt.xlabel('K')\n",
        "plt.ylabel('Accuracy')\n",
        "\n",
        "\n",
        "plt.subplot(2,3,4)\n",
        "plt.title('BOW | Uncompressed | kd_tree')\n",
        "plt.plot(list(k_vs_acc_uncompressed_kd_BOW.keys()), list(k_vs_acc_uncompressed_kd_BOW.values()), marker='o')\n",
        "plt.xticks(range(3,15,2))\n",
        "plt.xlabel('K')\n",
        "plt.ylabel('Accuracy')\n",
        "plt.tight_layout()\n",
        "\n",
        "plt.subplot(2,3,2)\n",
        "plt.title('BOW | Compressed (PCA) | Brute')\n",
        "plt.plot(list(k_vs_acc_pca_brute_BOW.keys()), list(k_vs_acc_pca_brute_BOW.values()), marker='o')\n",
        "plt.xticks(range(3,15,2))\n",
        "plt.xlabel('K')\n",
        "plt.ylabel('Accuracy')\n",
        "\n",
        "plt.subplot(2,3,5)\n",
        "plt.title('BOW | Compressed (PCA) | kd_tree')\n",
        "plt.plot(list(k_vs_acc_pca_kd_BOW.keys()), list(k_vs_acc_pca_kd_BOW.values()), marker='o')\n",
        "plt.xticks(range(3,15,2))\n",
        "plt.xlabel('K')\n",
        "plt.ylabel('Accuracy')\n",
        "\n",
        "plt.subplot(2,3,3)\n",
        "plt.title('BOW | Compressed (t-SNE) | Brute')\n",
        "plt.plot(list(k_vs_acc_tsne_brute_BOW.keys()), list(k_vs_acc_tsne_brute_BOW.values()), marker='o')\n",
        "plt.xticks(range(3,15,2))\n",
        "plt.xlabel('K')\n",
        "plt.ylabel('Accuracy')\n",
        "\n",
        "plt.subplot(2,3,6)\n",
        "plt.title('BOW | Compressed (t-SNE) | kd_tree')\n",
        "plt.plot(list(k_vs_acc_tsne_kd_BOW.keys()), list(k_vs_acc_tsne_kd_BOW.values()), marker='o')\n",
        "plt.xticks(range(3,15,2))\n",
        "plt.xlabel('K')\n",
        "plt.ylabel('Accuracy')\n",
        "plt.tight_layout()"
      ],
      "execution_count": 126,
      "outputs": [
        {
          "output_type": "display_data",
          "data": {
            "image/png": "[encoded data removed]",
            "text/plain": [
              "<matplotlib.figure.Figure at 0x7f74c7bd5e48>"
            ]
          },
          "metadata": {
            "tags": []
          }
        }
      ]
    },
    {
      "metadata": {
        "id": "Dkis4g9X-FZH",
        "colab_type": "text"
      },
      "cell_type": "markdown",
      "source": [
        "Important note: Although the y axis shows significant variance at first glance, the scale on it is very small. i.e. there's very little difference between the highest and the lowerst value on the y  axis. So almost all of these values are equivalent."
      ]
    },
    {
      "metadata": {
        "id": "nJLS685Eg1w0",
        "colab_type": "text"
      },
      "cell_type": "markdown",
      "source": [
        "### Tfidf vector representation of Text\n",
        "\n",
        "After BoW, let's run KNN on the Tfidf representation of the reviews. I'm following the same steps as earlier i.e. \n",
        "\n",
        "* KNN on uncompressed data\n",
        "* KNN on data reduced by PCA\n",
        "* KNN on data reduced by t-SNE\n",
        "\n",
        "---\n",
        "\n"
      ]
    },
    {
      "metadata": {
        "id": "fRjh0jLRctCf",
        "colab_type": "code",
        "colab": {}
      },
      "cell_type": "code",
      "source": [
        "from sklearn.feature_extraction.text import TfidfVectorizer"
      ],
      "execution_count": 0,
      "outputs": []
    },
    {
      "metadata": {
        "id": "aPrTnZmFeEG1",
        "colab_type": "code",
        "colab": {}
      },
      "cell_type": "code",
      "source": [
        "tfidf_vec = TfidfVectorizer(ngram_range=(1,1))\n",
        "tfidf = tfidf_vec.fit_transform(df['cleaned_text'].values)"
      ],
      "execution_count": 0,
      "outputs": []
    },
    {
      "metadata": {
        "id": "HM9HZCeceTiH",
        "colab_type": "code",
        "colab": {
          "base_uri": "https://localhost:8080/",
          "height": 35
        },
        "outputId": "89dec127-eed3-43fd-bdf4-27fdcdfe91a0"
      },
      "cell_type": "code",
      "source": [
        "tfidf.shape"
      ],
      "execution_count": 129,
      "outputs": [
        {
          "output_type": "execute_result",
          "data": {
            "text/plain": [
              "(10000, 14331)"
            ]
          },
          "metadata": {
            "tags": []
          },
          "execution_count": 129
        }
      ]
    },
    {
      "metadata": {
        "id": "xmQo12SkeVSM",
        "colab_type": "code",
        "colab": {
          "base_uri": "https://localhost:8080/",
          "height": 35
        },
        "outputId": "a04dc6cf-32ed-437f-8fc3-6e2ed2e291a9"
      },
      "cell_type": "code",
      "source": [
        "tfidf_vector = tfidf.toarray()\n",
        "tfidf_vector.shape"
      ],
      "execution_count": 130,
      "outputs": [
        {
          "output_type": "execute_result",
          "data": {
            "text/plain": [
              "(10000, 14331)"
            ]
          },
          "metadata": {
            "tags": []
          },
          "execution_count": 130
        }
      ]
    },
    {
      "metadata": {
        "id": "ZY4s0ingelyN",
        "colab_type": "code",
        "colab": {
          "base_uri": "https://localhost:8080/",
          "height": 35
        },
        "outputId": "a9de531f-f83f-420e-d252-16f5a4a6a614"
      },
      "cell_type": "code",
      "source": [
        "type(tfidf_vector)"
      ],
      "execution_count": 131,
      "outputs": [
        {
          "output_type": "execute_result",
          "data": {
            "text/plain": [
              "numpy.ndarray"
            ]
          },
          "metadata": {
            "tags": []
          },
          "execution_count": 131
        }
      ]
    },
    {
      "metadata": {
        "id": "1FdKP6Lae_HF",
        "colab_type": "code",
        "colab": {}
      },
      "cell_type": "code",
      "source": [
        "X_train,X_test, y_train, y_test = train_test_split(tfidf_vector, y, test_size=0.3,random_state=3,shuffle=False)"
      ],
      "execution_count": 0,
      "outputs": []
    },
    {
      "metadata": {
        "id": "7PlU3nInfk-N",
        "colab_type": "code",
        "colab": {
          "base_uri": "https://localhost:8080/",
          "height": 52
        },
        "outputId": "ff29dc27-e434-4dfb-ba00-cc11322baa25"
      },
      "cell_type": "code",
      "source": [
        "k_vs_acc_uncompressed_brute_tfidf = k_versus_accuracy(X_train, y_train, alg='brute')\n",
        "print('K vs Accuracy for Uncompressed Tfidf using Brute algorithm...\\n {}'.format(k_vs_acc_uncompressed_brute_tfidf))"
      ],
      "execution_count": 133,
      "outputs": [
        {
          "output_type": "stream",
          "text": [
            "K vs Accuracy for Uncompressed Tfidf using Brute algorithm...\n",
            " {3: 0.8865714285714285, 5: 0.8932857142857141, 7: 0.894142857142857, 9: 0.8924285714285715, 11: 0.8908571428571429, 13: 0.8904285714285713}\n"
          ],
          "name": "stdout"
        }
      ]
    },
    {
      "metadata": {
        "id": "iWyo-vyt7Un5",
        "colab_type": "code",
        "colab": {
          "base_uri": "https://localhost:8080/",
          "height": 52
        },
        "outputId": "e1e4e78b-f12e-43c3-ee82-7e4fca570eb6"
      },
      "cell_type": "code",
      "source": [
        "k_vs_acc_uncompressed_kd_tfidf = k_versus_accuracy(X_train, y_train, alg='kd_tree')\n",
        "print('K vs Accuracy for Uncompressed Tfidf using KD_tree algorithm...\\n {}'.format(k_vs_acc_uncompressed_kd_tfidf))"
      ],
      "execution_count": 134,
      "outputs": [
        {
          "output_type": "stream",
          "text": [
            "K vs Accuracy for Uncompressed Tfidf using KD_tree algorithm...\n",
            " {3: 0.8865714285714285, 5: 0.8932857142857141, 7: 0.894142857142857, 9: 0.8924285714285715, 11: 0.8908571428571429, 13: 0.8904285714285713}\n"
          ],
          "name": "stdout"
        }
      ]
    },
    {
      "metadata": {
        "id": "YlbKfbhDBwkD",
        "colab_type": "code",
        "colab": {
          "base_uri": "https://localhost:8080/",
          "height": 69
        },
        "outputId": "c62a1546-af95-4a05-bfc7-f11422a842bd"
      },
      "cell_type": "code",
      "source": [
        "knn = KNeighborsClassifier(n_neighbors = 11, weights = 'uniform', algorithm = 'brute')\n",
        "knn.fit(X_train, y_train)\n",
        "print('Accuracy for Tfidf | Uncompressed data')\n",
        "print('Accuracy on train data: {}'.format(knn.score(X_train, y_train)))\n",
        "print('Accuracy on test data: {}'.format(knn.score(X_test, y_test)))"
      ],
      "execution_count": 135,
      "outputs": [
        {
          "output_type": "stream",
          "text": [
            "Accuracy for Tfidf | Uncompressed data\n",
            "Accuracy on train data: 0.8982857142857142\n",
            "Accuracy on test data: 0.901\n"
          ],
          "name": "stdout"
        }
      ]
    },
    {
      "metadata": {
        "id": "UUDIEMl77nSn",
        "colab_type": "text"
      },
      "cell_type": "markdown",
      "source": [
        "**PCA on Tfidf**"
      ]
    },
    {
      "metadata": {
        "id": "fWTTewYf7cQW",
        "colab_type": "code",
        "colab": {
          "base_uri": "https://localhost:8080/",
          "height": 35
        },
        "outputId": "98ae0cc9-2145-4ede-f243-376e59ff1145"
      },
      "cell_type": "code",
      "source": [
        "from sklearn.decomposition import PCA\n",
        "pca = PCA(n_components = 50)\n",
        "X_new_pca = pca.fit_transform(tfidf_vector)\n",
        "print(X_new_pca.shape)"
      ],
      "execution_count": 136,
      "outputs": [
        {
          "output_type": "stream",
          "text": [
            "(10000, 50)\n"
          ],
          "name": "stdout"
        }
      ]
    },
    {
      "metadata": {
        "id": "D6TYklbhCSdD",
        "colab_type": "code",
        "colab": {}
      },
      "cell_type": "code",
      "source": [
        "X_train,X_test, y_train, y_test = train_test_split(X_new_pca, y, test_size=0.3,random_state=3,shuffle=False)"
      ],
      "execution_count": 0,
      "outputs": []
    },
    {
      "metadata": {
        "id": "5J3ARdn2Cegi",
        "colab_type": "code",
        "colab": {
          "base_uri": "https://localhost:8080/",
          "height": 52
        },
        "outputId": "54350a23-3b05-4588-e74a-cfb1bc1c8ff9"
      },
      "cell_type": "code",
      "source": [
        "k_vs_acc_pca_brute_tfidf = k_versus_accuracy(X_train, y_train, alg='brute')\n",
        "print('K vs Accuracy for PCA compressed Tfidf using Brute algorithm...\\n {}'.format(k_vs_acc_pca_brute_tfidf))"
      ],
      "execution_count": 138,
      "outputs": [
        {
          "output_type": "stream",
          "text": [
            "K vs Accuracy for PCA compressed Tfidf using Brute algorithm...\n",
            " {3: 0.8515714285714285, 5: 0.8704285714285713, 7: 0.8787142857142856, 9: 0.883, 11: 0.8859999999999999, 13: 0.8861428571428572}\n"
          ],
          "name": "stdout"
        }
      ]
    },
    {
      "metadata": {
        "id": "pdG62XJDFVou",
        "colab_type": "code",
        "colab": {
          "base_uri": "https://localhost:8080/",
          "height": 52
        },
        "outputId": "9ed78906-4fe8-4fca-80d5-3538a553fb32"
      },
      "cell_type": "code",
      "source": [
        "k_vs_acc_pca_kd_tfidf = k_versus_accuracy(X_train, y_train, alg='kd_tree')\n",
        "print('K vs Accuracy for PCA compressed Tfidf using KD_tree algorithm...\\n {}'.format(k_vs_acc_pca_kd_tfidf))"
      ],
      "execution_count": 139,
      "outputs": [
        {
          "output_type": "stream",
          "text": [
            "K vs Accuracy for PCA compressed Tfidf using KD_tree algorithm...\n",
            " {3: 0.8515714285714285, 5: 0.8704285714285713, 7: 0.8787142857142856, 9: 0.883, 11: 0.8859999999999999, 13: 0.8861428571428572}\n"
          ],
          "name": "stdout"
        }
      ]
    },
    {
      "metadata": {
        "id": "dYUUgaSwFn4l",
        "colab_type": "code",
        "colab": {
          "base_uri": "https://localhost:8080/",
          "height": 69
        },
        "outputId": "38adc2cb-dd99-4d29-8913-739cc94e145c"
      },
      "cell_type": "code",
      "source": [
        "knn = KNeighborsClassifier(n_neighbors = 11, weights = 'uniform', algorithm = 'brute')\n",
        "knn.fit(X_train, y_train)\n",
        "print('Accuracy for Tfidf | PCA compressed data')\n",
        "print('Accuracy on train data: {}'.format(knn.score(X_train, y_train)))\n",
        "print('Accuracy on test data: {}'.format(knn.score(X_test, y_test)))"
      ],
      "execution_count": 140,
      "outputs": [
        {
          "output_type": "stream",
          "text": [
            "Accuracy for Tfidf | PCA compressed data\n",
            "Accuracy on train data: 0.8975714285714286\n",
            "Accuracy on test data: 0.8886666666666667\n"
          ],
          "name": "stdout"
        }
      ]
    },
    {
      "metadata": {
        "id": "vD3Y20QsF5dC",
        "colab_type": "text"
      },
      "cell_type": "markdown",
      "source": [
        "**t-SNE on Tfidf**"
      ]
    },
    {
      "metadata": {
        "id": "V9hAYCNLF84c",
        "colab_type": "code",
        "colab": {
          "base_uri": "https://localhost:8080/",
          "height": 35
        },
        "outputId": "4866d669-189d-4541-f919-e91c34db65a0"
      },
      "cell_type": "code",
      "source": [
        "from sklearn.manifold import TSNE\n",
        "\n",
        "tsne = TSNE(n_components = 3, perplexity = 45, learning_rate = 300)\n",
        "\n",
        "X_new_tsne = tsne.fit_transform(tfidf_vector)\n",
        "\n",
        "print(X_new_tsne.shape)"
      ],
      "execution_count": 141,
      "outputs": [
        {
          "output_type": "stream",
          "text": [
            "(10000, 3)\n"
          ],
          "name": "stdout"
        }
      ]
    },
    {
      "metadata": {
        "id": "BtL1tFuqHtgs",
        "colab_type": "code",
        "colab": {}
      },
      "cell_type": "code",
      "source": [
        "X_train,X_test, y_train, y_test = train_test_split(X_new_tsne, y, test_size=0.3,random_state=3,shuffle=False)"
      ],
      "execution_count": 0,
      "outputs": []
    },
    {
      "metadata": {
        "id": "8wXWdkUBHwi0",
        "colab_type": "code",
        "colab": {
          "base_uri": "https://localhost:8080/",
          "height": 52
        },
        "outputId": "b2e12d37-d5c0-463f-cc93-6422c8a2d154"
      },
      "cell_type": "code",
      "source": [
        "k_vs_acc_tsne_brute_tfidf = k_versus_accuracy(X_train, y_train, alg='brute')\n",
        "print('K vs Accuracy for tsne compressed Tfidf using Brute algorithm...\\n {}'.format(k_vs_acc_tsne_brute_tfidf))"
      ],
      "execution_count": 143,
      "outputs": [
        {
          "output_type": "stream",
          "text": [
            "K vs Accuracy for tsne compressed Tfidf using Brute algorithm...\n",
            " {3: 0.875, 5: 0.8865714285714287, 7: 0.8881428571428571, 9: 0.8897142857142857, 11: 0.8901428571428571, 13: 0.8908571428571428}\n"
          ],
          "name": "stdout"
        }
      ]
    },
    {
      "metadata": {
        "id": "PF3XzxMDIC6x",
        "colab_type": "code",
        "colab": {
          "base_uri": "https://localhost:8080/",
          "height": 52
        },
        "outputId": "458c7f52-7c91-423a-a75d-665a2a301f3b"
      },
      "cell_type": "code",
      "source": [
        "k_vs_acc_tsne_kd_tfidf = k_versus_accuracy(X_train, y_train, alg='kd_tree')\n",
        "print('K vs Accuracy for tsne compressed Tfidf using Brute algorithm...\\n {}'.format(k_vs_acc_tsne_kd_tfidf))"
      ],
      "execution_count": 144,
      "outputs": [
        {
          "output_type": "stream",
          "text": [
            "K vs Accuracy for tsne compressed Tfidf using Brute algorithm...\n",
            " {3: 0.875, 5: 0.8865714285714287, 7: 0.8881428571428571, 9: 0.8897142857142857, 11: 0.8901428571428571, 13: 0.8908571428571428}\n"
          ],
          "name": "stdout"
        }
      ]
    },
    {
      "metadata": {
        "id": "K1IkUy0rIWWZ",
        "colab_type": "code",
        "colab": {
          "base_uri": "https://localhost:8080/",
          "height": 69
        },
        "outputId": "b43fcf6d-e788-484e-f14e-1633f81840a6"
      },
      "cell_type": "code",
      "source": [
        "knn = KNeighborsClassifier(n_neighbors = 11, weights = 'uniform', algorithm = 'kd_tree')\n",
        "knn.fit(X_train, y_train)\n",
        "print('Accuracy for Tfidf | t-SNE compressed data')\n",
        "print('Accuracy on train data: {}'.format(knn.score(X_train, y_train)))\n",
        "print('Accuracy on test data: {}'.format(knn.score(X_test, y_test)))"
      ],
      "execution_count": 145,
      "outputs": [
        {
          "output_type": "stream",
          "text": [
            "Accuracy for Tfidf | t-SNE compressed data\n",
            "Accuracy on train data: 0.897\n",
            "Accuracy on test data: 0.8916666666666667\n"
          ],
          "name": "stdout"
        }
      ]
    },
    {
      "metadata": {
        "id": "9-entjaf_Xu7",
        "colab_type": "text"
      },
      "cell_type": "markdown",
      "source": [
        "Summarizing K vs Accuracy for Tfidf representation through a plot"
      ]
    },
    {
      "metadata": {
        "id": "ipjn6MswImV0",
        "colab_type": "code",
        "colab": {
          "base_uri": "https://localhost:8080/",
          "height": 437
        },
        "outputId": "a6909903-cb8e-435b-8cc0-957b898c129f"
      },
      "cell_type": "code",
      "source": [
        "plt.figure(figsize=(15,6))\n",
        "plt.subplot(2, 3, 1)\n",
        "plt.title('Tfidf | Uncompressed | Brute')\n",
        "plt.plot(list(k_vs_acc_uncompressed_brute_tfidf.keys()), list(k_vs_acc_uncompressed_brute_tfidf.values()), marker='o')\n",
        "plt.xticks([3,5,7,9,11,13])\n",
        "plt.xlabel('K')\n",
        "plt.ylabel('Accuracy')\n",
        "\n",
        "\n",
        "plt.subplot(2,3,4)\n",
        "plt.title('Tfidf | Uncompressed | kd_tree')\n",
        "plt.plot(list(k_vs_acc_uncompressed_kd_tfidf.keys()), list(k_vs_acc_uncompressed_kd_tfidf.values()), marker='o')\n",
        "plt.xticks(range(3,15,2))\n",
        "plt.xlabel('K')\n",
        "plt.ylabel('Accuracy')\n",
        "plt.tight_layout()\n",
        "\n",
        "plt.subplot(2,3,2)\n",
        "plt.title('Tfidf | Compressed (PCA) | Brute')\n",
        "plt.plot(list(k_vs_acc_pca_brute_tfidf.keys()), list(k_vs_acc_pca_brute_tfidf.values()), marker='o')\n",
        "plt.xticks(range(3,15,2))\n",
        "plt.xlabel('K')\n",
        "plt.ylabel('Accuracy')\n",
        "\n",
        "plt.subplot(2,3,5)\n",
        "plt.title('Tfidf | Compressed (PCA) | kd_tree')\n",
        "plt.plot(list(k_vs_acc_pca_kd_tfidf.keys()), list(k_vs_acc_pca_kd_tfidf.values()), marker='o')\n",
        "plt.xticks(range(3,15,2))\n",
        "plt.xlabel('K')\n",
        "plt.ylabel('Accuracy')\n",
        "\n",
        "plt.subplot(2,3,3)\n",
        "plt.title('Tfidf | Compressed (t-SNE) | Brute')\n",
        "plt.plot(list(k_vs_acc_tsne_brute_tfidf.keys()), list(k_vs_acc_tsne_brute_tfidf.values()), marker='o')\n",
        "plt.xticks(range(3,15,2))\n",
        "plt.xlabel('K')\n",
        "plt.ylabel('Accuracy')\n",
        "\n",
        "plt.subplot(2,3,6)\n",
        "plt.title('Tfidf | Compressed (t-SNE) | kd_tree')\n",
        "plt.plot(list(k_vs_acc_tsne_kd_tfidf.keys()), list(k_vs_acc_tsne_kd_tfidf.values()), marker='o')\n",
        "plt.xticks(range(3,15,2))\n",
        "plt.xlabel('K')\n",
        "plt.ylabel('Accuracy')\n",
        "plt.tight_layout()"
      ],
      "execution_count": 146,
      "outputs": [
        {
          "output_type": "display_data",
          "data": {
            "image/png": "[encoded data removed]",
            "text/plain": [
              "<matplotlib.figure.Figure at 0x7f74c4478470>"
            ]
          },
          "metadata": {
            "tags": []
          }
        }
      ]
    },
    {
      "metadata": {
        "id": "N0eDWf__Ch9P",
        "colab_type": "text"
      },
      "cell_type": "markdown",
      "source": [
        "\n",
        "\n",
        "---\n",
        "\n"
      ]
    },
    {
      "metadata": {
        "id": "rnbj63r09Jff",
        "colab_type": "text"
      },
      "cell_type": "markdown",
      "source": [
        "### Avg W2V\n",
        "\n",
        "In this section, I'll run KNN on data represented through W2V format. Since each review has just 50 dimensions, there's no need to reduce dimensions using PCA or t-SNE."
      ]
    },
    {
      "metadata": {
        "id": "iyLRuKXx9NYi",
        "colab_type": "code",
        "colab": {}
      },
      "cell_type": "code",
      "source": [
        "from gensim.models import Word2Vec\n",
        "from gensim.models import KeyedVectors"
      ],
      "execution_count": 0,
      "outputs": []
    },
    {
      "metadata": {
        "id": "WerOo-i59frL",
        "colab_type": "code",
        "colab": {}
      },
      "cell_type": "code",
      "source": [
        "!pip install gensim"
      ],
      "execution_count": 0,
      "outputs": []
    },
    {
      "metadata": {
        "id": "yzwDN52u9jJb",
        "colab_type": "code",
        "colab": {}
      },
      "cell_type": "code",
      "source": [
        "# Training a Word2Vec model using our own corpus\n",
        "\n",
        "list_of_reviews = []\n",
        "\n",
        "for review in df['cleaned_text'].values:\n",
        "    list_of_reviews.append(review.decode('utf-8').split())"
      ],
      "execution_count": 0,
      "outputs": []
    },
    {
      "metadata": {
        "id": "mDSpamXu91RX",
        "colab_type": "text"
      },
      "cell_type": "markdown",
      "source": [
        "Train the model. Each word will have 50 dimensions."
      ]
    },
    {
      "metadata": {
        "id": "EXxOeLYB9xOQ",
        "colab_type": "code",
        "colab": {}
      },
      "cell_type": "code",
      "source": [
        "w2v_model = Word2Vec(list_of_reviews, min_count=4,size=50,workers=4)"
      ],
      "execution_count": 0,
      "outputs": []
    },
    {
      "metadata": {
        "id": "Dh0jLang93fH",
        "colab_type": "code",
        "colab": {
          "base_uri": "https://localhost:8080/",
          "height": 35
        },
        "outputId": "0b4e33a8-7331-4bd9-e850-ecd82a086955"
      },
      "cell_type": "code",
      "source": [
        "words = list(w2v_model.wv.vocab)\n",
        "print(len(words))"
      ],
      "execution_count": 150,
      "outputs": [
        {
          "output_type": "stream",
          "text": [
            "5547\n"
          ],
          "name": "stdout"
        }
      ]
    },
    {
      "metadata": {
        "id": "76j40xfp-Ols",
        "colab_type": "text"
      },
      "cell_type": "markdown",
      "source": [
        "Calculating the Average W2V"
      ]
    },
    {
      "metadata": {
        "id": "qJkmZUvX-BHv",
        "colab_type": "code",
        "colab": {}
      },
      "cell_type": "code",
      "source": [
        "corpus_vec = np.zeros(shape=(50))\n",
        "\n",
        "for review in df['cleaned_text'].values:\n",
        "    review_vector = np.zeros(shape=(50))\n",
        "    for word in review.decode('utf-8').split():\n",
        "        try:\n",
        "            \n",
        "            review_vector += w2v_model.wv[word]\n",
        "            \n",
        "        except KeyError:\n",
        "            continue\n",
        "    \n",
        "    review_vector /= 50\n",
        "    corpus_vec=np.vstack((corpus_vec,review_vector))    \n",
        "corpus_vec=np.delete(corpus_vec, 0, axis=0)"
      ],
      "execution_count": 0,
      "outputs": []
    },
    {
      "metadata": {
        "id": "AE45Ewpz-SYn",
        "colab_type": "code",
        "colab": {
          "base_uri": "https://localhost:8080/",
          "height": 35
        },
        "outputId": "b290717d-845c-4c09-eca8-26391396e283"
      },
      "cell_type": "code",
      "source": [
        "corpus_vec.shape"
      ],
      "execution_count": 152,
      "outputs": [
        {
          "output_type": "execute_result",
          "data": {
            "text/plain": [
              "(10000, 50)"
            ]
          },
          "metadata": {
            "tags": []
          },
          "execution_count": 152
        }
      ]
    },
    {
      "metadata": {
        "id": "bCaMpPgQAG5E",
        "colab_type": "text"
      },
      "cell_type": "markdown",
      "source": [
        "Divide the entire corpus into train and test sets."
      ]
    },
    {
      "metadata": {
        "id": "TVRJhtV3-X6k",
        "colab_type": "code",
        "colab": {}
      },
      "cell_type": "code",
      "source": [
        "X_train,X_test, y_train, y_test = train_test_split(corpus_vec, y, test_size=0.3,random_state=3,shuffle=False)"
      ],
      "execution_count": 0,
      "outputs": []
    },
    {
      "metadata": {
        "id": "nyHXensFLcKa",
        "colab_type": "code",
        "colab": {
          "base_uri": "https://localhost:8080/",
          "height": 52
        },
        "outputId": "51d5492a-f404-43a2-9aa2-d271df93ffd0"
      },
      "cell_type": "code",
      "source": [
        "k_vs_acc_brute_w2v = k_versus_accuracy(X_train, y_train, alg='brute')\n",
        "print('K vs Accuracy for W2V using Brute algorithm...\\n {}'.format(k_vs_acc_brute_w2v))"
      ],
      "execution_count": 154,
      "outputs": [
        {
          "output_type": "stream",
          "text": [
            "K vs Accuracy for W2V using Brute algorithm...\n",
            " {3: 0.8615714285714287, 5: 0.8738571428571428, 7: 0.879857142857143, 9: 0.8817142857142857, 11: 0.8837142857142857, 13: 0.8835714285714286}\n"
          ],
          "name": "stdout"
        }
      ]
    },
    {
      "metadata": {
        "id": "cWEXCFYOLqAd",
        "colab_type": "code",
        "colab": {
          "base_uri": "https://localhost:8080/",
          "height": 52
        },
        "outputId": "b7bf07ea-dbe0-4ea6-f9c6-8e26f30845ae"
      },
      "cell_type": "code",
      "source": [
        "k_vs_acc_kd_w2v = k_versus_accuracy(X_train, y_train, alg='kd_tree')\n",
        "print('K vs Accuracy for W2V using KD_tree algorithm...\\n {}'.format(k_vs_acc_kd_w2v))"
      ],
      "execution_count": 155,
      "outputs": [
        {
          "output_type": "stream",
          "text": [
            "K vs Accuracy for W2V using KD_tree algorithm...\n",
            " {3: 0.8615714285714287, 5: 0.8738571428571428, 7: 0.879857142857143, 9: 0.8817142857142857, 11: 0.8837142857142857, 13: 0.8835714285714286}\n"
          ],
          "name": "stdout"
        }
      ]
    },
    {
      "metadata": {
        "id": "MDL6aZVgL5sf",
        "colab_type": "code",
        "colab": {
          "base_uri": "https://localhost:8080/",
          "height": 69
        },
        "outputId": "26842481-f19e-4f8f-c585-24a1b6d48af5"
      },
      "cell_type": "code",
      "source": [
        "knn = KNeighborsClassifier(n_neighbors = 11, weights = 'uniform', algorithm = 'kd_tree')\n",
        "knn.fit(X_train, y_train)\n",
        "print('Accuracy for W2V')\n",
        "print('Accuracy on train data: {}'.format(knn.score(X_train, y_train)))\n",
        "print('Accuracy on test data: {}'.format(knn.score(X_test, y_test)))"
      ],
      "execution_count": 156,
      "outputs": [
        {
          "output_type": "stream",
          "text": [
            "Accuracy for W2V\n",
            "Accuracy on train data: 0.89\n",
            "Accuracy on test data: 0.8923333333333333\n"
          ],
          "name": "stdout"
        }
      ]
    },
    {
      "metadata": {
        "id": "NH7UIU2IMDP1",
        "colab_type": "text"
      },
      "cell_type": "markdown",
      "source": [
        "Plot the observations."
      ]
    },
    {
      "metadata": {
        "id": "14LGu4AIMWLt",
        "colab_type": "code",
        "colab": {
          "base_uri": "https://localhost:8080/",
          "height": 437
        },
        "outputId": "a8d35af5-7958-427c-c0bc-a769d2071abc"
      },
      "cell_type": "code",
      "source": [
        "plt.figure(figsize=(15,6))\n",
        "plt.subplot(1, 2, 1)\n",
        "plt.title('Avg W2V |  Brute')\n",
        "plt.plot(list(k_vs_acc_brute_w2v.keys()), list(k_vs_acc_brute_w2v.values()), marker='o')\n",
        "plt.xticks([3,5,7,9,11,13])\n",
        "plt.xlabel('K')\n",
        "plt.ylabel('Accuracy')\n",
        "\n",
        "plt.subplot(1, 2, 2)\n",
        "plt.title('Avg W2V |  KD_tree')\n",
        "plt.plot(list(k_vs_acc_kd_w2v.keys()), list(k_vs_acc_kd_w2v.values()), marker='o')\n",
        "plt.xticks([3,5,7,9,11,13])\n",
        "plt.xlabel('K')\n",
        "plt.ylabel('Accuracy')\n",
        "\n",
        "plt.tight_layout()"
      ],
      "execution_count": 157,
      "outputs": [
        {
          "output_type": "display_data",
          "data": {
            "image/png": "[encoded data removed]",
            "text/plain": [
              "<matplotlib.figure.Figure at 0x7f74c7cd3390>"
            ]
          },
          "metadata": {
            "tags": []
          }
        }
      ]
    },
    {
      "metadata": {
        "id": "8aGC3gQGLdFn",
        "colab_type": "text"
      },
      "cell_type": "markdown",
      "source": [
        "\n",
        "\n",
        "---\n",
        "\n"
      ]
    },
    {
      "metadata": {
        "id": "9sS5ciYz_EXY",
        "colab_type": "text"
      },
      "cell_type": "markdown",
      "source": [
        "### Tfidf weighted W2V\n",
        "\n",
        "Similar to the last technique, only difference being each review is a Tfidf weighted sum of all the words in the review."
      ]
    },
    {
      "metadata": {
        "id": "MEQ64jtZ_1w-",
        "colab_type": "code",
        "colab": {}
      },
      "cell_type": "code",
      "source": [
        "features = tfidf_vec.get_feature_names()"
      ],
      "execution_count": 0,
      "outputs": []
    },
    {
      "metadata": {
        "id": "G-I2maDT_KUq",
        "colab_type": "code",
        "colab": {}
      },
      "cell_type": "code",
      "source": [
        "corpus_tfidf_weighted_w2v = np.zeros(shape=(50))\n",
        "review_number = 0\n",
        "\n",
        "for review in df['cleaned_text'].values:\n",
        "    review_vector_tfidf_weighted = np.zeros(shape=(50))\n",
        "    tfidf_sum = 0\n",
        "    for word in review.decode('utf-8').split():\n",
        "        try:\n",
        "            tfidf_value = tfidf_vector[review_number, features.index(word)]\n",
        "            review_vector_tfidf_weighted += w2v_model.wv[word] * tfidf_value\n",
        "            tfidf_sum += tfidf_value\n",
        "            \n",
        "        except KeyError:\n",
        "            continue\n",
        "    \n",
        "    review_number += 1\n",
        "    \n",
        "    review_vector_tfidf_weighted /= tfidf_sum\n",
        "    corpus_tfidf_weighted_w2v=np.vstack((corpus_tfidf_weighted_w2v,review_vector_tfidf_weighted))\n",
        "    \n",
        "corpus_tfidf_weighted_w2v = np.delete(corpus_tfidf_weighted_w2v, 0, axis=0)"
      ],
      "execution_count": 0,
      "outputs": []
    },
    {
      "metadata": {
        "id": "-_RaB9y2CNH-",
        "colab_type": "code",
        "colab": {
          "base_uri": "https://localhost:8080/",
          "height": 35
        },
        "outputId": "31d229b2-c231-4765-e2fd-8b9bdfa96cd3"
      },
      "cell_type": "code",
      "source": [
        "corpus_tfidf_weighted_w2v.shape"
      ],
      "execution_count": 160,
      "outputs": [
        {
          "output_type": "execute_result",
          "data": {
            "text/plain": [
              "(10000, 50)"
            ]
          },
          "metadata": {
            "tags": []
          },
          "execution_count": 160
        }
      ]
    },
    {
      "metadata": {
        "id": "-xBxXobL_gfi",
        "colab_type": "code",
        "colab": {}
      },
      "cell_type": "code",
      "source": [
        "X_train,X_test, y_train, y_test = train_test_split(corpus_tfidf_weighted_w2v, y, test_size=0.3,random_state=3,shuffle=False)"
      ],
      "execution_count": 0,
      "outputs": []
    },
    {
      "metadata": {
        "id": "ToMBoy8sNlSQ",
        "colab_type": "code",
        "colab": {
          "base_uri": "https://localhost:8080/",
          "height": 52
        },
        "outputId": "a2157046-cc62-4a2b-f1d9-d06c8fc7ab04"
      },
      "cell_type": "code",
      "source": [
        "k_vs_acc_brute_tfidf_w2v = k_versus_accuracy(X_train, y_train, alg='brute')\n",
        "print('K vs Accuracy for W2V using Brute algorithm...\\n {}'.format(k_vs_acc_brute_tfidf_w2v))"
      ],
      "execution_count": 162,
      "outputs": [
        {
          "output_type": "stream",
          "text": [
            "K vs Accuracy for W2V using Brute algorithm...\n",
            " {3: 0.8597142857142857, 5: 0.8721428571428571, 7: 0.8779999999999999, 9: 0.878857142857143, 11: 0.8807142857142857, 13: 0.8824285714285715}\n"
          ],
          "name": "stdout"
        }
      ]
    },
    {
      "metadata": {
        "id": "hq6X_UEiNuuA",
        "colab_type": "code",
        "colab": {
          "base_uri": "https://localhost:8080/",
          "height": 52
        },
        "outputId": "d61fabac-da84-4add-ada4-c20a0c680458"
      },
      "cell_type": "code",
      "source": [
        "k_vs_acc_kd_tfidf_w2v = k_versus_accuracy(X_train, y_train, alg='kd_tree')\n",
        "print('K vs Accuracy for W2V using Brute algorithm...\\n {}'.format(k_vs_acc_kd_tfidf_w2v))"
      ],
      "execution_count": 163,
      "outputs": [
        {
          "output_type": "stream",
          "text": [
            "K vs Accuracy for W2V using Brute algorithm...\n",
            " {3: 0.8597142857142857, 5: 0.8721428571428571, 7: 0.8779999999999999, 9: 0.878857142857143, 11: 0.8807142857142857, 13: 0.8824285714285715}\n"
          ],
          "name": "stdout"
        }
      ]
    },
    {
      "metadata": {
        "id": "yzgYs4zJN6RP",
        "colab_type": "code",
        "colab": {
          "base_uri": "https://localhost:8080/",
          "height": 69
        },
        "outputId": "e2c2f45a-190a-482e-acf5-1b9b52d1e316"
      },
      "cell_type": "code",
      "source": [
        "knn = KNeighborsClassifier(n_neighbors = 11, weights = 'uniform', algorithm = 'kd_tree')\n",
        "knn.fit(X_train, y_train)\n",
        "print('Accuracy for Tfidf weighted W2V')\n",
        "print('Accuracy on train data: {}'.format(knn.score(X_train, y_train)))\n",
        "print('Accuracy on test data: {}'.format(knn.score(X_test, y_test)))"
      ],
      "execution_count": 164,
      "outputs": [
        {
          "output_type": "stream",
          "text": [
            "Accuracy for Tfidf weighted W2V\n",
            "Accuracy on train data: 0.8904285714285715\n",
            "Accuracy on test data: 0.8933333333333333\n"
          ],
          "name": "stdout"
        }
      ]
    },
    {
      "metadata": {
        "id": "dSvRqrgmAo9t",
        "colab_type": "text"
      },
      "cell_type": "markdown",
      "source": [
        "Plot observations."
      ]
    },
    {
      "metadata": {
        "id": "N6rb4O0cOdkf",
        "colab_type": "code",
        "colab": {
          "base_uri": "https://localhost:8080/",
          "height": 437
        },
        "outputId": "09e1af9a-d22c-4503-aad7-c96e1507b208"
      },
      "cell_type": "code",
      "source": [
        "plt.figure(figsize=(15,6))\n",
        "plt.subplot(1, 2, 1)\n",
        "plt.title('Tfidf Weighted W2V |  Brute')\n",
        "plt.plot(list(k_vs_acc_brute_tfidf_w2v.keys()), list(k_vs_acc_brute_tfidf_w2v.values()), marker='o')\n",
        "plt.xticks([3,5,7,9,11,13])\n",
        "plt.xlabel('K')\n",
        "plt.ylabel('Accuracy')\n",
        "\n",
        "plt.subplot(1, 2, 2)\n",
        "plt.title('Tfidf Weighted W2V |  KD_tree')\n",
        "plt.plot(list(k_vs_acc_kd_tfidf_w2v.keys()), list(k_vs_acc_kd_tfidf_w2v.values()), marker='o')\n",
        "plt.xticks([3,5,7,9,11,13])\n",
        "plt.xlabel('K')\n",
        "plt.ylabel('Accuracy')\n",
        "\n",
        "plt.tight_layout()"
      ],
      "execution_count": 165,
      "outputs": [
        {
          "output_type": "display_data",
          "data": {
            "image/png": "[encoded data removed]",
            "text/plain": [
              "<matplotlib.figure.Figure at 0x7f74bad84e80>"
            ]
          },
          "metadata": {
            "tags": []
          }
        }
      ]
    },
    {
      "metadata": {
        "id": "ri-N1B1uArHP",
        "colab_type": "text"
      },
      "cell_type": "markdown",
      "source": [
        "# Conclusion\n",
        "\n",
        "* Continuing the study of the Amazon Food Reviews dataset, I applied KNN on various vector representations of text data, to classify the reviews into positive/negative.\n",
        "\n",
        "* Although accuracy > 85% can be generally considered good, this is not the case here, because the dataset is heavily biased towards positve reviews. Therefore, accuracy is not the best metric to use in this situation."
      ]
    }
  ]
}