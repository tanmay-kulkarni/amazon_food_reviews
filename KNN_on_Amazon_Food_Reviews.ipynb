{
  "nbformat": 4,
  "nbformat_minor": 0,
  "metadata": {
    "colab": {
      "name": "Copy_of_KNN_on_Amazon_Food_Reviews_GCP.ipynb",
      "version": "0.3.2",
      "provenance": [],
      "collapsed_sections": []
    },
    "kernelspec": {
      "display_name": "Python 3",
      "language": "python",
      "name": "python3"
    },
    "accelerator": "GPU"
  },
  "cells": [
    {
      "metadata": {
        "id": "wUZaOs0M24Z1",
        "colab_type": "text"
      },
      "cell_type": "markdown",
      "source": [
        "# Objective:\n",
        "\n",
        "**To classify food reviews into positive or negative using K Nearest Neghbors algorithm.**\n",
        "\n",
        "This is a continuation of my ongoing study of the Amazon Food Reviews data available on Kaggle. Let's see how KNN performs on this dataset. As usual, let's begin by importing the libraries we need."
      ]
    },
    {
      "metadata": {
        "id": "9c3JYceecJ2x",
        "colab_type": "code",
        "colab": {}
      },
      "cell_type": "code",
      "source": [
        "import pandas as pd\n",
        "import matplotlib.pyplot as plt\n",
        "import numpy as np\n",
        "import seaborn as sbn\n",
        "#from google.colab import drive\n",
        "import os\n",
        "import sqlite3\n",
        "from sklearn.model_selection import train_test_split\n",
        "from sklearn.feature_extraction.text import CountVectorizer\n",
        "from sklearn.neighbors import KNeighborsClassifier\n",
        "from sklearn.model_selection import GridSearchCV\n",
        "from sklearn.model_selection import TimeSeriesSplit\n",
        "from sklearn.feature_extraction.text import TfidfVectorizer\n",
        "from sklearn.decomposition import TruncatedSVD"
      ],
      "execution_count": 0,
      "outputs": []
    },
    {
      "metadata": {
        "id": "kBWKKDSmc_fi",
        "colab_type": "text"
      },
      "cell_type": "markdown",
      "source": [
        "Connect to google drive to load the cleaned dataframe."
      ]
    },
    {
      "metadata": {
        "id": "fyQaTBHodMGL",
        "colab_type": "code",
        "colab": {}
      },
      "cell_type": "code",
      "source": [
        "#drive.mount('/gdrive')"
      ],
      "execution_count": 0,
      "outputs": []
    },
    {
      "metadata": {
        "id": "ZGlKXLhF38FS",
        "colab_type": "text"
      },
      "cell_type": "markdown",
      "source": [
        "I had stored a dataframe with cleaned text reviews from the last excercise on my Google Drive. So there's no need to perform data cleaning again. The column 'cleaned_text' is free from stopwords, punctuation marks, HTML tags, and duplicate entries.\n",
        "\n",
        "I simply need to load it. Let's do that by connecting this Google Colab environment with my Google Drive."
      ]
    },
    {
      "metadata": {
        "id": "dCnEIyjQdTfp",
        "colab_type": "code",
        "colab": {}
      },
      "cell_type": "code",
      "source": [
        "#os.listdir('/gdrive/My Drive/amazon')"
      ],
      "execution_count": 0,
      "outputs": []
    },
    {
      "metadata": {
        "id": "BqemSbdQd1e6",
        "colab_type": "code",
        "colab": {
          "base_uri": "https://localhost:8080/",
          "height": 361
        },
        "outputId": "b5f781fb-3c00-49bb-8f17-3ed3ad7ad0ae"
      },
      "cell_type": "code",
      "source": [
        "con = sqlite3.connect(r'/home/ucanreachtvk/data/reviews_cleaned_final.sqlite')\n",
        "df_full_clean = pd.read_sql('select * from Reviews;', con)\n",
        "df_full_clean.head(3)"
      ],
      "execution_count": 0,
      "outputs": [
        {
          "output_type": "execute_result",
          "data": {
            "text/html": [
              "<div>\n",
              "<style scoped>\n",
              "    .dataframe tbody tr th:only-of-type {\n",
              "        vertical-align: middle;\n",
              "    }\n",
              "\n",
              "    .dataframe tbody tr th {\n",
              "        vertical-align: top;\n",
              "    }\n",
              "\n",
              "    .dataframe thead th {\n",
              "        text-align: right;\n",
              "    }\n",
              "</style>\n",
              "<table border=\"1\" class=\"dataframe\">\n",
              "  <thead>\n",
              "    <tr style=\"text-align: right;\">\n",
              "      <th></th>\n",
              "      <th>index</th>\n",
              "      <th>Id</th>\n",
              "      <th>ProductId</th>\n",
              "      <th>UserId</th>\n",
              "      <th>ProfileName</th>\n",
              "      <th>HelpfulnessNumerator</th>\n",
              "      <th>HelpfulnessDenominator</th>\n",
              "      <th>Score</th>\n",
              "      <th>Time</th>\n",
              "      <th>Summary</th>\n",
              "      <th>Text</th>\n",
              "      <th>cleaned_text</th>\n",
              "    </tr>\n",
              "  </thead>\n",
              "  <tbody>\n",
              "    <tr>\n",
              "      <th>0</th>\n",
              "      <td>0</td>\n",
              "      <td>1</td>\n",
              "      <td>B001E4KFG0</td>\n",
              "      <td>A3SGXH7AUHU8GW</td>\n",
              "      <td>delmartian</td>\n",
              "      <td>1</td>\n",
              "      <td>1</td>\n",
              "      <td>positive</td>\n",
              "      <td>1303862400</td>\n",
              "      <td>Good Quality Dog Food</td>\n",
              "      <td>I have bought several of the Vitality canned d...</td>\n",
              "      <td>b'bought sever vital can dog food product foun...</td>\n",
              "    </tr>\n",
              "    <tr>\n",
              "      <th>1</th>\n",
              "      <td>1</td>\n",
              "      <td>2</td>\n",
              "      <td>B00813GRG4</td>\n",
              "      <td>A1D87F6ZCVE5NK</td>\n",
              "      <td>dll pa</td>\n",
              "      <td>0</td>\n",
              "      <td>0</td>\n",
              "      <td>negative</td>\n",
              "      <td>1346976000</td>\n",
              "      <td>Not as Advertised</td>\n",
              "      <td>Product arrived labeled as Jumbo Salted Peanut...</td>\n",
              "      <td>b'product arriv label jumbo salt peanut peanut...</td>\n",
              "    </tr>\n",
              "    <tr>\n",
              "      <th>2</th>\n",
              "      <td>2</td>\n",
              "      <td>3</td>\n",
              "      <td>B000LQOCH0</td>\n",
              "      <td>ABXLMWJIXXAIN</td>\n",
              "      <td>Natalia Corres \"Natalia Corres\"</td>\n",
              "      <td>1</td>\n",
              "      <td>1</td>\n",
              "      <td>positive</td>\n",
              "      <td>1219017600</td>\n",
              "      <td>\"Delight\" says it all</td>\n",
              "      <td>This is a confection that has been around a fe...</td>\n",
              "      <td>b'confect around centuri light pillowi citru g...</td>\n",
              "    </tr>\n",
              "  </tbody>\n",
              "</table>\n",
              "</div>"
            ],
            "text/plain": [
              "   index  Id   ProductId          UserId                      ProfileName  \\\n",
              "0      0   1  B001E4KFG0  A3SGXH7AUHU8GW                       delmartian   \n",
              "1      1   2  B00813GRG4  A1D87F6ZCVE5NK                           dll pa   \n",
              "2      2   3  B000LQOCH0   ABXLMWJIXXAIN  Natalia Corres \"Natalia Corres\"   \n",
              "\n",
              "   HelpfulnessNumerator  HelpfulnessDenominator     Score        Time  \\\n",
              "0                     1                       1  positive  1303862400   \n",
              "1                     0                       0  negative  1346976000   \n",
              "2                     1                       1  positive  1219017600   \n",
              "\n",
              "                 Summary                                               Text  \\\n",
              "0  Good Quality Dog Food  I have bought several of the Vitality canned d...   \n",
              "1      Not as Advertised  Product arrived labeled as Jumbo Salted Peanut...   \n",
              "2  \"Delight\" says it all  This is a confection that has been around a fe...   \n",
              "\n",
              "                                        cleaned_text  \n",
              "0  b'bought sever vital can dog food product foun...  \n",
              "1  b'product arriv label jumbo salt peanut peanut...  \n",
              "2  b'confect around centuri light pillowi citru g...  "
            ]
          },
          "metadata": {
            "tags": []
          },
          "execution_count": 4
        }
      ]
    },
    {
      "metadata": {
        "id": "XtcPgtqhfRRc",
        "colab_type": "text"
      },
      "cell_type": "markdown",
      "source": [
        "### Sorting by Timestamp\n",
        "\n",
        "The reviews are likely to have a temporal structure. If we train our model on randomly sampled data, this structural information will be lost. Therefore, sort the dataframe by timestamp and select a subset from it from a contiguous timespan."
      ]
    },
    {
      "metadata": {
        "id": "Vi8e30vdemRk",
        "colab_type": "code",
        "colab": {
          "base_uri": "https://localhost:8080/",
          "height": 445
        },
        "outputId": "e6948ebb-4e7e-47a2-8352-6092b1d3f210"
      },
      "cell_type": "code",
      "source": [
        "df_full_clean.sort_values(by=['Time'], ascending=True, inplace=True)\n",
        "df_full_clean.head(4)"
      ],
      "execution_count": 0,
      "outputs": [
        {
          "output_type": "execute_result",
          "data": {
            "text/html": [
              "<div>\n",
              "<style scoped>\n",
              "    .dataframe tbody tr th:only-of-type {\n",
              "        vertical-align: middle;\n",
              "    }\n",
              "\n",
              "    .dataframe tbody tr th {\n",
              "        vertical-align: top;\n",
              "    }\n",
              "\n",
              "    .dataframe thead th {\n",
              "        text-align: right;\n",
              "    }\n",
              "</style>\n",
              "<table border=\"1\" class=\"dataframe\">\n",
              "  <thead>\n",
              "    <tr style=\"text-align: right;\">\n",
              "      <th></th>\n",
              "      <th>index</th>\n",
              "      <th>Id</th>\n",
              "      <th>ProductId</th>\n",
              "      <th>UserId</th>\n",
              "      <th>ProfileName</th>\n",
              "      <th>HelpfulnessNumerator</th>\n",
              "      <th>HelpfulnessDenominator</th>\n",
              "      <th>Score</th>\n",
              "      <th>Time</th>\n",
              "      <th>Summary</th>\n",
              "      <th>Text</th>\n",
              "      <th>cleaned_text</th>\n",
              "    </tr>\n",
              "  </thead>\n",
              "  <tbody>\n",
              "    <tr>\n",
              "      <th>117924</th>\n",
              "      <td>138706</td>\n",
              "      <td>150524</td>\n",
              "      <td>0006641040</td>\n",
              "      <td>ACITT7DI6IDDL</td>\n",
              "      <td>shari zychinski</td>\n",
              "      <td>0</td>\n",
              "      <td>0</td>\n",
              "      <td>positive</td>\n",
              "      <td>939340800</td>\n",
              "      <td>EVERY book is educational</td>\n",
              "      <td>this witty little book makes my son laugh at l...</td>\n",
              "      <td>b'witti littl book make son laugh loud recit c...</td>\n",
              "    </tr>\n",
              "    <tr>\n",
              "      <th>117901</th>\n",
              "      <td>138683</td>\n",
              "      <td>150501</td>\n",
              "      <td>0006641040</td>\n",
              "      <td>AJ46FKXOVC7NR</td>\n",
              "      <td>Nicholas A Mesiano</td>\n",
              "      <td>2</td>\n",
              "      <td>2</td>\n",
              "      <td>positive</td>\n",
              "      <td>940809600</td>\n",
              "      <td>This whole series is great way to spend time w...</td>\n",
              "      <td>I can remember seeing the show when it aired o...</td>\n",
              "      <td>b'rememb see show air televis year ago child s...</td>\n",
              "    </tr>\n",
              "    <tr>\n",
              "      <th>298792</th>\n",
              "      <td>417839</td>\n",
              "      <td>451856</td>\n",
              "      <td>B00004CXX9</td>\n",
              "      <td>AIUWLEQ1ADEG5</td>\n",
              "      <td>Elizabeth Medina</td>\n",
              "      <td>0</td>\n",
              "      <td>0</td>\n",
              "      <td>positive</td>\n",
              "      <td>944092800</td>\n",
              "      <td>Entertainingl Funny!</td>\n",
              "      <td>Beetlejuice is a well written movie ..... ever...</td>\n",
              "      <td>b'beetlejuic well written movi everyth excel a...</td>\n",
              "    </tr>\n",
              "    <tr>\n",
              "      <th>169281</th>\n",
              "      <td>212472</td>\n",
              "      <td>230285</td>\n",
              "      <td>B00004RYGX</td>\n",
              "      <td>A344SMIA5JECGM</td>\n",
              "      <td>Vincent P. Ross</td>\n",
              "      <td>1</td>\n",
              "      <td>2</td>\n",
              "      <td>positive</td>\n",
              "      <td>944438400</td>\n",
              "      <td>A modern day fairy tale</td>\n",
              "      <td>A twist of rumplestiskin captured on film, sta...</td>\n",
              "      <td>b'twist rumplestiskin captur film star michael...</td>\n",
              "    </tr>\n",
              "  </tbody>\n",
              "</table>\n",
              "</div>"
            ],
            "text/plain": [
              "         index      Id   ProductId          UserId         ProfileName  \\\n",
              "117924  138706  150524  0006641040   ACITT7DI6IDDL     shari zychinski   \n",
              "117901  138683  150501  0006641040   AJ46FKXOVC7NR  Nicholas A Mesiano   \n",
              "298792  417839  451856  B00004CXX9   AIUWLEQ1ADEG5    Elizabeth Medina   \n",
              "169281  212472  230285  B00004RYGX  A344SMIA5JECGM     Vincent P. Ross   \n",
              "\n",
              "        HelpfulnessNumerator  HelpfulnessDenominator     Score       Time  \\\n",
              "117924                     0                       0  positive  939340800   \n",
              "117901                     2                       2  positive  940809600   \n",
              "298792                     0                       0  positive  944092800   \n",
              "169281                     1                       2  positive  944438400   \n",
              "\n",
              "                                                  Summary  \\\n",
              "117924                          EVERY book is educational   \n",
              "117901  This whole series is great way to spend time w...   \n",
              "298792                               Entertainingl Funny!   \n",
              "169281                            A modern day fairy tale   \n",
              "\n",
              "                                                     Text  \\\n",
              "117924  this witty little book makes my son laugh at l...   \n",
              "117901  I can remember seeing the show when it aired o...   \n",
              "298792  Beetlejuice is a well written movie ..... ever...   \n",
              "169281  A twist of rumplestiskin captured on film, sta...   \n",
              "\n",
              "                                             cleaned_text  \n",
              "117924  b'witti littl book make son laugh loud recit c...  \n",
              "117901  b'rememb see show air televis year ago child s...  \n",
              "298792  b'beetlejuic well written movi everyth excel a...  \n",
              "169281  b'twist rumplestiskin captur film star michael...  "
            ]
          },
          "metadata": {
            "tags": []
          },
          "execution_count": 5
        }
      ]
    },
    {
      "metadata": {
        "id": "kA9v6lY_fyTz",
        "colab_type": "text"
      },
      "cell_type": "markdown",
      "source": [
        "The data is now sorted by time. Since this is a huge database, I'll have to sample only a small fraction of it, due to hardware limitations. "
      ]
    },
    {
      "metadata": {
        "id": "LmnxWACifqFH",
        "colab_type": "code",
        "colab": {
          "base_uri": "https://localhost:8080/",
          "height": 319
        },
        "outputId": "aa261ea3-0a16-4f16-c784-c4a1c9e85966"
      },
      "cell_type": "code",
      "source": [
        "df_full_clean.info()"
      ],
      "execution_count": 0,
      "outputs": [
        {
          "output_type": "stream",
          "text": [
            "<class 'pandas.core.frame.DataFrame'>\n",
            "Int64Index: 364171 entries, 117924 to 107253\n",
            "Data columns (total 12 columns):\n",
            "index                     364171 non-null int64\n",
            "Id                        364171 non-null int64\n",
            "ProductId                 364171 non-null object\n",
            "UserId                    364171 non-null object\n",
            "ProfileName               364171 non-null object\n",
            "HelpfulnessNumerator      364171 non-null int64\n",
            "HelpfulnessDenominator    364171 non-null int64\n",
            "Score                     364171 non-null object\n",
            "Time                      364171 non-null int64\n",
            "Summary                   364171 non-null object\n",
            "Text                      364171 non-null object\n",
            "cleaned_text              364171 non-null object\n",
            "dtypes: int64(5), object(7)\n",
            "memory usage: 36.1+ MB\n"
          ],
          "name": "stdout"
        }
      ]
    },
    {
      "metadata": {
        "id": "TEmxuFGgnV48",
        "colab_type": "text"
      },
      "cell_type": "markdown",
      "source": [
        "There are 364k reviews in the dataframe. Let's select the first 10,000 reviews."
      ]
    },
    {
      "metadata": {
        "id": "-t-IJFa2pXc8",
        "colab_type": "text"
      },
      "cell_type": "markdown",
      "source": [
        "\n",
        "\n",
        "---\n",
        "\n"
      ]
    },
    {
      "metadata": {
        "id": "EI3gxXmInjV-",
        "colab_type": "code",
        "colab": {
          "base_uri": "https://localhost:8080/",
          "height": 159
        },
        "outputId": "70f01059-fd87-4d45-fde9-0f4bdaf308a1"
      },
      "cell_type": "code",
      "source": [
        "df = df_full_clean.head(50000)[['Time', 'cleaned_text', 'Score']]\n",
        "df.info()"
      ],
      "execution_count": 0,
      "outputs": [
        {
          "output_type": "stream",
          "text": [
            "<class 'pandas.core.frame.DataFrame'>\n",
            "Int64Index: 50000 entries, 117924 to 59767\n",
            "Data columns (total 3 columns):\n",
            "Time            50000 non-null int64\n",
            "cleaned_text    50000 non-null object\n",
            "Score           50000 non-null object\n",
            "dtypes: int64(1), object(2)\n",
            "memory usage: 1.5+ MB\n"
          ],
          "name": "stdout"
        }
      ]
    },
    {
      "metadata": {
        "id": "B9AKZq6Cns0a",
        "colab_type": "code",
        "colab": {
          "base_uri": "https://localhost:8080/",
          "height": 200
        },
        "outputId": "1c0298b2-c6de-4431-89f0-2de4f0dc3f36"
      },
      "cell_type": "code",
      "source": [
        "df.head()"
      ],
      "execution_count": 0,
      "outputs": [
        {
          "output_type": "execute_result",
          "data": {
            "text/html": [
              "<div>\n",
              "<style scoped>\n",
              "    .dataframe tbody tr th:only-of-type {\n",
              "        vertical-align: middle;\n",
              "    }\n",
              "\n",
              "    .dataframe tbody tr th {\n",
              "        vertical-align: top;\n",
              "    }\n",
              "\n",
              "    .dataframe thead th {\n",
              "        text-align: right;\n",
              "    }\n",
              "</style>\n",
              "<table border=\"1\" class=\"dataframe\">\n",
              "  <thead>\n",
              "    <tr style=\"text-align: right;\">\n",
              "      <th></th>\n",
              "      <th>Time</th>\n",
              "      <th>cleaned_text</th>\n",
              "      <th>Score</th>\n",
              "    </tr>\n",
              "  </thead>\n",
              "  <tbody>\n",
              "    <tr>\n",
              "      <th>117924</th>\n",
              "      <td>939340800</td>\n",
              "      <td>b'witti littl book make son laugh loud recit c...</td>\n",
              "      <td>positive</td>\n",
              "    </tr>\n",
              "    <tr>\n",
              "      <th>117901</th>\n",
              "      <td>940809600</td>\n",
              "      <td>b'rememb see show air televis year ago child s...</td>\n",
              "      <td>positive</td>\n",
              "    </tr>\n",
              "    <tr>\n",
              "      <th>298792</th>\n",
              "      <td>944092800</td>\n",
              "      <td>b'beetlejuic well written movi everyth excel a...</td>\n",
              "      <td>positive</td>\n",
              "    </tr>\n",
              "    <tr>\n",
              "      <th>169281</th>\n",
              "      <td>944438400</td>\n",
              "      <td>b'twist rumplestiskin captur film star michael...</td>\n",
              "      <td>positive</td>\n",
              "    </tr>\n",
              "    <tr>\n",
              "      <th>298791</th>\n",
              "      <td>946857600</td>\n",
              "      <td>b'beetlejuic excel funni movi keaton hilari wa...</td>\n",
              "      <td>positive</td>\n",
              "    </tr>\n",
              "  </tbody>\n",
              "</table>\n",
              "</div>"
            ],
            "text/plain": [
              "             Time                                       cleaned_text     Score\n",
              "117924  939340800  b'witti littl book make son laugh loud recit c...  positive\n",
              "117901  940809600  b'rememb see show air televis year ago child s...  positive\n",
              "298792  944092800  b'beetlejuic well written movi everyth excel a...  positive\n",
              "169281  944438400  b'twist rumplestiskin captur film star michael...  positive\n",
              "298791  946857600  b'beetlejuic excel funni movi keaton hilari wa...  positive"
            ]
          },
          "metadata": {
            "tags": []
          },
          "execution_count": 8
        }
      ]
    },
    {
      "metadata": {
        "id": "jHF2Yjfmnvnc",
        "colab_type": "text"
      },
      "cell_type": "markdown",
      "source": [
        "Let's see how the +/- reviews are distributed. The positive reviews are expected to be more than the negative ones."
      ]
    },
    {
      "metadata": {
        "id": "gJh4YExhoe78",
        "colab_type": "code",
        "colab": {
          "base_uri": "https://localhost:8080/",
          "height": 70
        },
        "outputId": "4288bd8f-5ddd-47e5-8c23-f0a0880dc6df"
      },
      "cell_type": "code",
      "source": [
        "df['Score'].value_counts()"
      ],
      "execution_count": 0,
      "outputs": [
        {
          "output_type": "execute_result",
          "data": {
            "text/plain": [
              "positive    44377\n",
              "negative     5623\n",
              "Name: Score, dtype: int64"
            ]
          },
          "metadata": {
            "tags": []
          },
          "execution_count": 9
        }
      ]
    },
    {
      "metadata": {
        "id": "DsxcKQ-5xqoy",
        "colab_type": "text"
      },
      "cell_type": "markdown",
      "source": [
        "Let's map the score column in the dataframe\n",
        "\n",
        "* positive : 1\n",
        "* negative : 0\n"
      ]
    },
    {
      "metadata": {
        "id": "Z1o8SNKLxp9I",
        "colab_type": "code",
        "colab": {}
      },
      "cell_type": "code",
      "source": [
        "df['Score'] = df['Score'].map({'positive':1,'negative':0})"
      ],
      "execution_count": 0,
      "outputs": []
    },
    {
      "metadata": {
        "id": "MknHcGaZRol3",
        "colab_type": "code",
        "colab": {}
      },
      "cell_type": "code",
      "source": [
        "y = np.array(df['Score'])"
      ],
      "execution_count": 0,
      "outputs": []
    },
    {
      "metadata": {
        "id": "8lyDPDGYP-CU",
        "colab_type": "code",
        "colab": {}
      },
      "cell_type": "code",
      "source": [
        "X_train, X_test, y_train, y_test = train_test_split(df['cleaned_text'].values, y, test_size = 0.2)"
      ],
      "execution_count": 0,
      "outputs": []
    },
    {
      "metadata": {
        "id": "eh8wkZ4rRzMd",
        "colab_type": "code",
        "colab": {
          "base_uri": "https://localhost:8080/",
          "height": 88
        },
        "outputId": "8af1eaac-d15c-4298-b615-e08e261447a9"
      },
      "cell_type": "code",
      "source": [
        "print('Shape of X_train is {}.'.format(X_train.shape))\n",
        "print('Shape of X_test is {}.'.format(X_test.shape))\n",
        "print('Shape of y_train is {}.'.format(y_train.shape))\n",
        "print('Shape of y_test is {}.'.format(y_test.shape))"
      ],
      "execution_count": 0,
      "outputs": [
        {
          "output_type": "stream",
          "text": [
            "Shape of X_train is (40000,).\n",
            "Shape of X_test is (10000,).\n",
            "Shape of y_train is (40000,).\n",
            "Shape of y_test is (10000,).\n"
          ],
          "name": "stdout"
        }
      ]
    },
    {
      "metadata": {
        "id": "qmjS2MYTSC_m",
        "colab_type": "text"
      },
      "cell_type": "markdown",
      "source": [
        "BoW"
      ]
    },
    {
      "metadata": {
        "id": "wwpaA3GiR_o6",
        "colab_type": "code",
        "colab": {}
      },
      "cell_type": "code",
      "source": [
        "bow = CountVectorizer(ngram_range=(1,1))\n",
        "bow_fit = bow.fit(X_train)"
      ],
      "execution_count": 0,
      "outputs": []
    },
    {
      "metadata": {
        "id": "8dPJKWg6SFQe",
        "colab_type": "code",
        "colab": {
          "base_uri": "https://localhost:8080/",
          "height": 124
        },
        "outputId": "c98a2e29-11db-4c93-c692-93e612363402"
      },
      "cell_type": "code",
      "source": [
        "bow_fit"
      ],
      "execution_count": 0,
      "outputs": [
        {
          "output_type": "execute_result",
          "data": {
            "text/plain": [
              "CountVectorizer(analyzer='word', binary=False, decode_error='strict',\n",
              "        dtype=<class 'numpy.int64'>, encoding='utf-8', input='content',\n",
              "        lowercase=True, max_df=1.0, max_features=None, min_df=1,\n",
              "        ngram_range=(1, 1), preprocessor=None, stop_words=None,\n",
              "        strip_accents=None, token_pattern='(?u)\\\\b\\\\w\\\\w+\\\\b',\n",
              "        tokenizer=None, vocabulary=None)"
            ]
          },
          "metadata": {
            "tags": []
          },
          "execution_count": 13
        }
      ]
    },
    {
      "metadata": {
        "id": "mqgbo_LLSbqN",
        "colab_type": "code",
        "colab": {}
      },
      "cell_type": "code",
      "source": [
        "#X_train[:5]"
      ],
      "execution_count": 0,
      "outputs": []
    },
    {
      "metadata": {
        "id": "q4LOpNOVt-pA",
        "colab_type": "text"
      },
      "cell_type": "markdown",
      "source": [
        "Transform Train data into its BoW representation"
      ]
    },
    {
      "metadata": {
        "id": "n1yl2zdH9hRG",
        "colab_type": "code",
        "colab": {
          "base_uri": "https://localhost:8080/",
          "height": 35
        },
        "outputId": "c849c990-11dc-4ee0-ce4b-55de29482e15"
      },
      "cell_type": "code",
      "source": [
        "try:\n",
        "    del(X_train_transformed)\n",
        "    del(my_cv)\n",
        "    del(clf)\n",
        "    del(tscv)\n",
        "except NameError:\n",
        "    print('One or more variables not found')"
      ],
      "execution_count": 0,
      "outputs": [
        {
          "output_type": "stream",
          "text": [
            "One or more variables not found\n"
          ],
          "name": "stdout"
        }
      ]
    },
    {
      "metadata": {
        "id": "KtakxdgOmlTi",
        "colab_type": "text"
      },
      "cell_type": "markdown",
      "source": [
        "convert training data corpus into BoW vector representation."
      ]
    },
    {
      "metadata": {
        "id": "1ibN63L2Sd1a",
        "colab_type": "code",
        "colab": {}
      },
      "cell_type": "code",
      "source": [
        "X_train_transformed = bow_fit.transform(X_train)"
      ],
      "execution_count": 0,
      "outputs": []
    },
    {
      "metadata": {
        "id": "_U7Pzx0KSrn_",
        "colab_type": "code",
        "colab": {
          "base_uri": "https://localhost:8080/",
          "height": 52
        },
        "outputId": "219286d5-5ecf-418e-9397-b7cc79bd9453"
      },
      "cell_type": "code",
      "source": [
        "X_train_transformed"
      ],
      "execution_count": 0,
      "outputs": [
        {
          "output_type": "execute_result",
          "data": {
            "text/plain": [
              "<40000x24600 sparse matrix of type '<class 'numpy.int64'>'\n",
              "\twith 1190663 stored elements in Compressed Sparse Row format>"
            ]
          },
          "metadata": {
            "tags": []
          },
          "execution_count": 16
        }
      ]
    },
    {
      "metadata": {
        "id": "CA1iim6mzGXg",
        "colab_type": "text"
      },
      "cell_type": "markdown",
      "source": [
        "First reduce the dimensions of data using SVD, so that it would be computationally easier for the kd_tree algorithm."
      ]
    },
    {
      "metadata": {
        "id": "qDV75HK8rz4w",
        "colab_type": "code",
        "colab": {
          "base_uri": "https://localhost:8080/",
          "height": 35
        },
        "outputId": "1c2a3b63-4a37-49ea-9b88-7d286e0c0738"
      },
      "cell_type": "code",
      "source": [
        "svd = TruncatedSVD(n_components=100, random_state = 7)\n",
        "X_train_transformed_svd = svd.fit_transform(X_train_transformed)\n",
        "X_train_transformed_svd.shape"
      ],
      "execution_count": 0,
      "outputs": [
        {
          "output_type": "execute_result",
          "data": {
            "text/plain": [
              "(40000, 100)"
            ]
          },
          "metadata": {
            "tags": []
          },
          "execution_count": 17
        }
      ]
    },
    {
      "metadata": {
        "id": "ag6eR3zwmlTp",
        "colab_type": "code",
        "colab": {},
        "outputId": "854e2d17-0790-458b-b8fa-6d276a851851"
      },
      "cell_type": "code",
      "source": [
        "X_train_transformed_svd[~np.isnan(X_train_transformed_svd).any(axis=1)].shape"
      ],
      "execution_count": 0,
      "outputs": [
        {
          "output_type": "execute_result",
          "data": {
            "text/plain": [
              "(40000, 100)"
            ]
          },
          "metadata": {
            "tags": []
          },
          "execution_count": 18
        }
      ]
    },
    {
      "metadata": {
        "id": "_0ekQMHW04fR",
        "colab_type": "code",
        "colab": {
          "base_uri": "https://localhost:8080/",
          "height": 52
        },
        "outputId": "ceac2681-9430-497c-b03e-ce302aa169d8"
      },
      "cell_type": "code",
      "source": [
        "X_train_transformed"
      ],
      "execution_count": 0,
      "outputs": [
        {
          "output_type": "execute_result",
          "data": {
            "text/plain": [
              "<40000x24600 sparse matrix of type '<class 'numpy.int64'>'\n",
              "\twith 1190663 stored elements in Compressed Sparse Row format>"
            ]
          },
          "metadata": {
            "tags": []
          },
          "execution_count": 19
        }
      ]
    },
    {
      "metadata": {
        "id": "DQ3l9V-emlTv",
        "colab_type": "code",
        "colab": {},
        "outputId": "f2427f18-7d93-479e-d51b-62c2fa7de30c"
      },
      "cell_type": "code",
      "source": [
        "try:\n",
        "    del(knn)\n",
        "    del(clf)\n",
        "    del(tscv)\n",
        "    del(my_cv)\n",
        "except:\n",
        "    print('One or more variables not found')"
      ],
      "execution_count": 0,
      "outputs": [
        {
          "output_type": "stream",
          "text": [
            "One or more variables not found\n"
          ],
          "name": "stdout"
        }
      ]
    },
    {
      "metadata": {
        "id": "1Jj9OftrsEtX",
        "colab_type": "code",
        "colab": {}
      },
      "cell_type": "code",
      "source": [
        "tscv = TimeSeriesSplit(n_splits=5)\n",
        "my_cv = tscv.split(X_train_transformed_svd)"
      ],
      "execution_count": 0,
      "outputs": []
    },
    {
      "metadata": {
        "id": "_7QtWwX2mlT5",
        "colab_type": "code",
        "colab": {},
        "outputId": "3c88d6fa-5d5d-4509-feb1-44ef63287bc3"
      },
      "cell_type": "code",
      "source": [
        "X_train_transformed_svd.shape"
      ],
      "execution_count": 0,
      "outputs": [
        {
          "output_type": "execute_result",
          "data": {
            "text/plain": [
              "(40000, 100)"
            ]
          },
          "metadata": {
            "tags": []
          },
          "execution_count": 22
        }
      ]
    },
    {
      "metadata": {
        "id": "pV9b5_UjmlT-",
        "colab_type": "text"
      },
      "cell_type": "markdown",
      "source": [
        "Build GridSearchCV object for kd_tree algorithm of KNN"
      ]
    },
    {
      "metadata": {
        "id": "Bg9mSciRUObn",
        "colab_type": "code",
        "colab": {}
      },
      "cell_type": "code",
      "source": [
        "knn = KNeighborsClassifier(algorithm = 'kd_tree')\n",
        "\n",
        "param_grid = {\n",
        "                'n_neighbors':[3,5,7,9,11,13,15],\n",
        "                'weights' : ['uniform', 'distance']\n",
        "             }\n",
        "\n",
        "clf = GridSearchCV(estimator=knn, cv=my_cv, param_grid=param_grid, n_jobs=-1, return_train_score=True)"
      ],
      "execution_count": 0,
      "outputs": []
    },
    {
      "metadata": {
        "id": "d_WuptfosSD9",
        "colab_type": "code",
        "colab": {
          "base_uri": "https://localhost:8080/",
          "height": 177
        },
        "outputId": "732cbf2a-f3ed-4d58-9a3a-5ac3065913b7"
      },
      "cell_type": "code",
      "source": [
        "clf.fit(X_train_transformed_svd, y_train)"
      ],
      "execution_count": 0,
      "outputs": [
        {
          "output_type": "execute_result",
          "data": {
            "text/plain": [
              "GridSearchCV(cv=<generator object TimeSeriesSplit.split at 0x7f9028c00d58>,\n",
              "       error_score='raise',\n",
              "       estimator=KNeighborsClassifier(algorithm='kd_tree', leaf_size=30, metric='minkowski',\n",
              "           metric_params=None, n_jobs=1, n_neighbors=5, p=2,\n",
              "           weights='uniform'),\n",
              "       fit_params=None, iid=True, n_jobs=-1,\n",
              "       param_grid={'n_neighbors': [3, 5, 7, 9, 11, 13, 15], 'weights': ['uniform', 'distance']},\n",
              "       pre_dispatch='2*n_jobs', refit=True, return_train_score=True,\n",
              "       scoring=None, verbose=0)"
            ]
          },
          "metadata": {
            "tags": []
          },
          "execution_count": 24
        }
      ]
    },
    {
      "metadata": {
        "id": "NfHimMiamlUG",
        "colab_type": "text"
      },
      "cell_type": "markdown",
      "source": [
        "here\n",
        "After the above computation is done, pickle the GridSearchCV object to the file."
      ]
    },
    {
      "metadata": {
        "id": "6gc9q4MHtHqz",
        "colab_type": "code",
        "colab": {
          "base_uri": "https://localhost:8080/",
          "height": 35
        },
        "outputId": "ea1ab6b4-dade-4b39-8cb0-d33b1b4c2c97"
      },
      "cell_type": "code",
      "source": [
        "clf.best_params_"
      ],
      "execution_count": 0,
      "outputs": [
        {
          "output_type": "execute_result",
          "data": {
            "text/plain": [
              "{'n_neighbors': 13, 'weights': 'distance'}"
            ]
          },
          "metadata": {
            "tags": []
          },
          "execution_count": 26
        }
      ]
    },
    {
      "metadata": {
        "id": "yU0IBLIVU3T0",
        "colab_type": "code",
        "colab": {
          "base_uri": "https://localhost:8080/",
          "height": 106
        },
        "outputId": "019d4685-8c5a-47ea-d775-d4657601cbcb"
      },
      "cell_type": "code",
      "source": [
        "for train, test in tscv.split(X_train_transformed_svd[:6]):\n",
        "    print(train, test)"
      ],
      "execution_count": 0,
      "outputs": [
        {
          "output_type": "stream",
          "text": [
            "[0] [1]\n",
            "[0 1] [2]\n",
            "[0 1 2] [3]\n",
            "[0 1 2 3] [4]\n",
            "[0 1 2 3 4] [5]\n"
          ],
          "name": "stdout"
        }
      ]
    },
    {
      "metadata": {
        "id": "uhSvZ6w122Se",
        "colab_type": "text"
      },
      "cell_type": "markdown",
      "source": [
        "Let's define a function"
      ]
    },
    {
      "metadata": {
        "id": "R6zoxi8zsdGV",
        "colab_type": "code",
        "colab": {}
      },
      "cell_type": "code",
      "source": [
        "def k_weight_score(cv_results_):\n",
        "\n",
        "    D={'k':[], 'weight':[], 'score':[]}\n",
        "\n",
        "    for k in [3,5,7,9,11,13,15]:\n",
        "\n",
        "        for weight in ['uniform', 'distance']:\n",
        "\n",
        "            d={'n_neighbors': k, 'weights': weight}\n",
        "\n",
        "            ind=cv_results_['params'].index(d)\n",
        "            D['k'].append(k)\n",
        "            D['weight'].append(weight)\n",
        "            D['score'].append(cv_results_['mean_train_score'][ind])\n",
        "    return(pd.DataFrame.from_dict(D))\n",
        "    \n"
      ],
      "execution_count": 0,
      "outputs": []
    },
    {
      "metadata": {
        "id": "HLbym53ftN_n",
        "colab_type": "code",
        "colab": {}
      },
      "cell_type": "code",
      "source": [
        "DF_bow_kd_train = k_weight_score(clf.cv_results_)\n",
        "\n",
        "import pickle\n",
        "fname = open('/home/ucanreachtvk/data/knn_pickle_files/DF_bow_kd_train_50k.pkl','wb')\n",
        "pickle.dump(DF_bow_kd_train,fname)\n",
        "fname.close()"
      ],
      "execution_count": 0,
      "outputs": []
    },
    {
      "metadata": {
        "id": "eoxxGz-0tkc9",
        "colab_type": "text"
      },
      "cell_type": "markdown",
      "source": [
        "** BoW with Brute algorithm **"
      ]
    },
    {
      "metadata": {
        "id": "iky88gI83G6J",
        "colab_type": "code",
        "colab": {}
      },
      "cell_type": "code",
      "source": [
        "try:\n",
        "    del(my_cv)\n",
        "    del(tscv)\n",
        "except:\n",
        "    pass\n",
        "\n",
        "tscv = TimeSeriesSplit(n_splits=5)\n",
        "my_cv = tscv.split(X_train_transformed)"
      ],
      "execution_count": 0,
      "outputs": []
    },
    {
      "metadata": {
        "id": "CsXEFDRY3WBH",
        "colab_type": "code",
        "colab": {
          "base_uri": "https://localhost:8080/",
          "height": 52
        },
        "outputId": "ab8a9f55-afe6-4974-a22b-92b3ec463fd3"
      },
      "cell_type": "code",
      "source": [
        "X_train_transformed"
      ],
      "execution_count": 0,
      "outputs": [
        {
          "output_type": "execute_result",
          "data": {
            "text/plain": [
              "<40000x24600 sparse matrix of type '<class 'numpy.int64'>'\n",
              "\twith 1190663 stored elements in Compressed Sparse Row format>"
            ]
          },
          "metadata": {
            "tags": []
          },
          "execution_count": 55
        }
      ]
    },
    {
      "metadata": {
        "id": "IdA8xRim_K5n",
        "colab_type": "code",
        "colab": {}
      },
      "cell_type": "code",
      "source": [
        "try:\n",
        "    del(clf)\n",
        "    del(knn)\n",
        "except:\n",
        "    print('variable/s not found')"
      ],
      "execution_count": 0,
      "outputs": []
    },
    {
      "metadata": {
        "id": "o6hbK8xXmlUe",
        "colab_type": "text"
      },
      "cell_type": "markdown",
      "source": [
        "Define a GridSearchCV object for Brute algorithm of KNN"
      ]
    },
    {
      "metadata": {
        "id": "eDrlDqOltkCU",
        "colab_type": "code",
        "colab": {}
      },
      "cell_type": "code",
      "source": [
        "knn = KNeighborsClassifier(algorithm = 'brute')\n",
        "\n",
        "param_grid = {\n",
        "                'n_neighbors':[3,5,7,9,11,13,15],\n",
        "                'weights' : ['uniform', 'distance']\n",
        "             }\n",
        "\n",
        "clf = GridSearchCV(estimator=knn, cv=my_cv, param_grid=param_grid, n_jobs=1, return_train_score=True)"
      ],
      "execution_count": 0,
      "outputs": []
    },
    {
      "metadata": {
        "id": "zQLWsSp0mlUh",
        "colab_type": "code",
        "colab": {},
        "outputId": "de0edc81-7955-4a77-c091-82975ce6f903"
      },
      "cell_type": "code",
      "source": [
        "X_train_transformed"
      ],
      "execution_count": 0,
      "outputs": [
        {
          "output_type": "execute_result",
          "data": {
            "text/plain": [
              "<40000x24600 sparse matrix of type '<class 'numpy.int64'>'\n",
              "\twith 1190663 stored elements in Compressed Sparse Row format>"
            ]
          },
          "metadata": {
            "tags": []
          },
          "execution_count": 58
        }
      ]
    },
    {
      "metadata": {
        "id": "lZxi-uAhS0_d",
        "colab_type": "code",
        "colab": {},
        "outputId": "e1923080-d238-4186-9e76-b8d4dddbe20d"
      },
      "cell_type": "code",
      "source": [
        "clf.fit(X_train_transformed, y_train)"
      ],
      "execution_count": 0,
      "outputs": [
        {
          "output_type": "execute_result",
          "data": {
            "text/plain": [
              "GridSearchCV(cv=<generator object TimeSeriesSplit.split at 0x7f902c33ef10>,\n",
              "       error_score='raise',\n",
              "       estimator=KNeighborsClassifier(algorithm='brute', leaf_size=30, metric='minkowski',\n",
              "           metric_params=None, n_jobs=1, n_neighbors=5, p=2,\n",
              "           weights='uniform'),\n",
              "       fit_params=None, iid=True, n_jobs=1,\n",
              "       param_grid={'n_neighbors': [3, 5, 7, 9, 11, 13, 15], 'weights': ['uniform', 'distance']},\n",
              "       pre_dispatch='2*n_jobs', refit=True, return_train_score=True,\n",
              "       scoring=None, verbose=0)"
            ]
          },
          "metadata": {
            "tags": []
          },
          "execution_count": 59
        }
      ]
    },
    {
      "metadata": {
        "id": "Fgzeevc0T651",
        "colab_type": "code",
        "colab": {
          "base_uri": "https://localhost:8080/",
          "height": 35
        },
        "outputId": "6b30b34a-b317-498d-f697-2ca261546f66"
      },
      "cell_type": "code",
      "source": [
        "clf.best_params_"
      ],
      "execution_count": 0,
      "outputs": [
        {
          "output_type": "execute_result",
          "data": {
            "text/plain": [
              "{'n_neighbors': 9, 'weights': 'distance'}"
            ]
          },
          "metadata": {
            "tags": []
          },
          "execution_count": 60
        }
      ]
    },
    {
      "metadata": {
        "id": "OVnUmDtQT9ss",
        "colab_type": "code",
        "colab": {
          "base_uri": "https://localhost:8080/",
          "height": 70
        },
        "outputId": "fe312fc5-5aa9-4927-8e56-09bc4071d10b"
      },
      "cell_type": "code",
      "source": [
        "clf.best_estimator_"
      ],
      "execution_count": 0,
      "outputs": [
        {
          "output_type": "execute_result",
          "data": {
            "text/plain": [
              "KNeighborsClassifier(algorithm='brute', leaf_size=30, metric='minkowski',\n",
              "           metric_params=None, n_jobs=1, n_neighbors=9, p=2,\n",
              "           weights='distance')"
            ]
          },
          "metadata": {
            "tags": []
          },
          "execution_count": 61
        }
      ]
    },
    {
      "metadata": {
        "id": "6QsS7a1c3wkv",
        "colab_type": "code",
        "colab": {
          "base_uri": "https://localhost:8080/",
          "height": 177
        },
        "outputId": "89866d2e-a4ae-416c-a7a9-d383d5484ea0"
      },
      "cell_type": "code",
      "source": [
        "clf"
      ],
      "execution_count": 0,
      "outputs": [
        {
          "output_type": "execute_result",
          "data": {
            "text/plain": [
              "GridSearchCV(cv=<generator object TimeSeriesSplit.split at 0x7f902c33ef10>,\n",
              "       error_score='raise',\n",
              "       estimator=KNeighborsClassifier(algorithm='brute', leaf_size=30, metric='minkowski',\n",
              "           metric_params=None, n_jobs=1, n_neighbors=5, p=2,\n",
              "           weights='uniform'),\n",
              "       fit_params=None, iid=True, n_jobs=1,\n",
              "       param_grid={'n_neighbors': [3, 5, 7, 9, 11, 13, 15], 'weights': ['uniform', 'distance']},\n",
              "       pre_dispatch='2*n_jobs', refit=True, return_train_score=True,\n",
              "       scoring=None, verbose=0)"
            ]
          },
          "metadata": {
            "tags": []
          },
          "execution_count": 62
        }
      ]
    },
    {
      "metadata": {
        "id": "ydx3G0p1XIxX",
        "colab_type": "code",
        "colab": {}
      },
      "cell_type": "code",
      "source": [
        "DF_bow_brute_train = k_weight_score(clf.cv_results_)"
      ],
      "execution_count": 0,
      "outputs": []
    },
    {
      "metadata": {
        "id": "jCgM-rc6mlUz",
        "colab_type": "code",
        "colab": {}
      },
      "cell_type": "code",
      "source": [
        "fname = open('/home/ucanreachtvk/data/knn_pickle_files/DF_bow_brute_train_50k.pkl','wb')\n",
        "pickle.dump(DF_bow_brute_train,fname)\n",
        "fname.close()"
      ],
      "execution_count": 0,
      "outputs": []
    },
    {
      "metadata": {
        "id": "YdVsYFqceU3R",
        "colab_type": "code",
        "colab": {
          "base_uri": "https://localhost:8080/",
          "height": 139
        },
        "outputId": "091ccd05-092b-47fe-a3a4-ed8983d02669"
      },
      "cell_type": "code",
      "source": [
        "DF_bow_brute_train[['k', 'weight', 'score']].head(3)"
      ],
      "execution_count": 0,
      "outputs": [
        {
          "output_type": "execute_result",
          "data": {
            "text/html": [
              "<div>\n",
              "<style scoped>\n",
              "    .dataframe tbody tr th:only-of-type {\n",
              "        vertical-align: middle;\n",
              "    }\n",
              "\n",
              "    .dataframe tbody tr th {\n",
              "        vertical-align: top;\n",
              "    }\n",
              "\n",
              "    .dataframe thead th {\n",
              "        text-align: right;\n",
              "    }\n",
              "</style>\n",
              "<table border=\"1\" class=\"dataframe\">\n",
              "  <thead>\n",
              "    <tr style=\"text-align: right;\">\n",
              "      <th></th>\n",
              "      <th>k</th>\n",
              "      <th>weight</th>\n",
              "      <th>score</th>\n",
              "    </tr>\n",
              "  </thead>\n",
              "  <tbody>\n",
              "    <tr>\n",
              "      <th>0</th>\n",
              "      <td>3</td>\n",
              "      <td>uniform</td>\n",
              "      <td>0.923781</td>\n",
              "    </tr>\n",
              "    <tr>\n",
              "      <th>1</th>\n",
              "      <td>3</td>\n",
              "      <td>distance</td>\n",
              "      <td>1.000000</td>\n",
              "    </tr>\n",
              "    <tr>\n",
              "      <th>2</th>\n",
              "      <td>5</td>\n",
              "      <td>uniform</td>\n",
              "      <td>0.906849</td>\n",
              "    </tr>\n",
              "  </tbody>\n",
              "</table>\n",
              "</div>"
            ],
            "text/plain": [
              "   k    weight     score\n",
              "0  3   uniform  0.923781\n",
              "1  3  distance  1.000000\n",
              "2  5   uniform  0.906849"
            ]
          },
          "metadata": {
            "tags": []
          },
          "execution_count": 65
        }
      ]
    },
    {
      "metadata": {
        "id": "Ym2Fjr3Tbfxd",
        "colab_type": "code",
        "colab": {}
      },
      "cell_type": "code",
      "source": [
        "sbn.set()"
      ],
      "execution_count": 0,
      "outputs": []
    },
    {
      "metadata": {
        "id": "Dc6-ml94l2iG",
        "colab_type": "code",
        "colab": {
          "base_uri": "https://localhost:8080/",
          "height": 437
        },
        "outputId": "38a557d9-295b-4284-a6ee-6b3091c56879"
      },
      "cell_type": "code",
      "source": [
        "plt.figure(figsize=(15,6))\n",
        "\n",
        "plt.subplot(1,2,1)\n",
        "sbn.heatmap(data=DF_bow_brute_train.pivot('weight','k','score'), annot=True, linewidth = 0.5)\n",
        "plt.title('BoW | Training/CV set | Brute', fontsize = 15)\n",
        "plt.xlabel('K', fontsize = 14)\n",
        "plt.ylabel('Weight', fontsize = 14)\n",
        "#plt.show()\n",
        "\n",
        "plt.subplot(1,2,2)\n",
        "sbn.heatmap(data=DF_bow_kd_train.pivot('weight','k','score'), annot=True, linewidth = 0.5)\n",
        "plt.title('BoW | Training/CV set | kd_tree', fontsize = 15)\n",
        "plt.xlabel('K', fontsize = 14)\n",
        "plt.ylabel('Weight', fontsize = 14)\n",
        "\n",
        "plt.tight_layout()\n",
        "plt.show()"
      ],
      "execution_count": 0,
      "outputs": [
        {
          "output_type": "display_data",
          "data": {
            "image/png": "[encoded data removed]",
            "text/plain": [
              "<Figure size 1080x432 with 4 Axes>"
            ]
          },
          "metadata": {
            "tags": []
          }
        }
      ]
    },
    {
      "metadata": {
        "id": "6ywGxH_tsfAE",
        "colab_type": "text"
      },
      "cell_type": "markdown",
      "source": [
        "Transform Test data in BoW format"
      ]
    },
    {
      "metadata": {
        "id": "aAdp0AWcsewC",
        "colab_type": "code",
        "colab": {}
      },
      "cell_type": "code",
      "source": [
        "X_test_transformed = bow_fit.transform(X_test)"
      ],
      "execution_count": 0,
      "outputs": []
    },
    {
      "metadata": {
        "id": "_Hk0eib-ordc",
        "colab_type": "code",
        "colab": {
          "base_uri": "https://localhost:8080/",
          "height": 35
        },
        "outputId": "6d5ff690-5416-4184-b584-ecded7e89953"
      },
      "cell_type": "code",
      "source": [
        "clf.score(X_test_transformed, y_test)"
      ],
      "execution_count": 0,
      "outputs": [
        {
          "output_type": "execute_result",
          "data": {
            "text/plain": [
              "0.8891"
            ]
          },
          "metadata": {
            "tags": []
          },
          "execution_count": 69
        }
      ]
    },
    {
      "metadata": {
        "id": "a9Euxjj-sxa4",
        "colab_type": "text"
      },
      "cell_type": "markdown",
      "source": [
        "### Tfidf"
      ]
    },
    {
      "metadata": {
        "id": "jatGQ3T8s4uO",
        "colab_type": "code",
        "colab": {}
      },
      "cell_type": "code",
      "source": [
        "tfidf = TfidfVectorizer(ngram_range=(1,1))"
      ],
      "execution_count": 0,
      "outputs": []
    },
    {
      "metadata": {
        "id": "Y0PL7QQe4TGu",
        "colab_type": "code",
        "colab": {
          "base_uri": "https://localhost:8080/",
          "height": 141
        },
        "outputId": "85203ab3-ca4a-47b6-d032-8fd6f36a288c"
      },
      "cell_type": "code",
      "source": [
        "tfidf"
      ],
      "execution_count": 0,
      "outputs": [
        {
          "output_type": "execute_result",
          "data": {
            "text/plain": [
              "TfidfVectorizer(analyzer='word', binary=False, decode_error='strict',\n",
              "        dtype=<class 'numpy.int64'>, encoding='utf-8', input='content',\n",
              "        lowercase=True, max_df=1.0, max_features=None, min_df=1,\n",
              "        ngram_range=(1, 1), norm='l2', preprocessor=None, smooth_idf=True,\n",
              "        stop_words=None, strip_accents=None, sublinear_tf=False,\n",
              "        token_pattern='(?u)\\\\b\\\\w\\\\w+\\\\b', tokenizer=None, use_idf=True,\n",
              "        vocabulary=None)"
            ]
          },
          "metadata": {
            "tags": []
          },
          "execution_count": 54
        }
      ]
    },
    {
      "metadata": {
        "id": "dLkiQ9oV4YhL",
        "colab_type": "text"
      },
      "cell_type": "markdown",
      "source": [
        "Fit the train reviews corpus into Tfidf format"
      ]
    },
    {
      "metadata": {
        "id": "JntABu-rtlfZ",
        "colab_type": "code",
        "colab": {}
      },
      "cell_type": "code",
      "source": [
        "tfidf_fit = tfidf.fit(X_train)"
      ],
      "execution_count": 0,
      "outputs": []
    },
    {
      "metadata": {
        "id": "6AfJaKcStr8R",
        "colab_type": "code",
        "colab": {
          "base_uri": "https://localhost:8080/",
          "height": 141
        },
        "outputId": "ff0913ba-8912-4914-e28c-40273f818ece"
      },
      "cell_type": "code",
      "source": [
        "tfidf_fit"
      ],
      "execution_count": 0,
      "outputs": [
        {
          "output_type": "execute_result",
          "data": {
            "text/plain": [
              "TfidfVectorizer(analyzer='word', binary=False, decode_error='strict',\n",
              "        dtype=<class 'numpy.int64'>, encoding='utf-8', input='content',\n",
              "        lowercase=True, max_df=1.0, max_features=None, min_df=1,\n",
              "        ngram_range=(1, 1), norm='l2', preprocessor=None, smooth_idf=True,\n",
              "        stop_words=None, strip_accents=None, sublinear_tf=False,\n",
              "        token_pattern='(?u)\\\\b\\\\w\\\\w+\\\\b', tokenizer=None, use_idf=True,\n",
              "        vocabulary=None)"
            ]
          },
          "metadata": {
            "tags": []
          },
          "execution_count": 56
        }
      ]
    },
    {
      "metadata": {
        "id": "GvwIUhh34snB",
        "colab_type": "text"
      },
      "cell_type": "markdown",
      "source": [
        "Transform Train reviews"
      ]
    },
    {
      "metadata": {
        "id": "GR_eRIksttaK",
        "colab_type": "code",
        "colab": {},
        "outputId": "3ba8f9d3-3d23-41d4-9a51-1e5f665cd3ca"
      },
      "cell_type": "code",
      "source": [
        "try:\n",
        "    del(X_train_transformed)\n",
        "except:\n",
        "    print('variable not found.')\n",
        "    \n",
        "X_train_transformed = tfidf_fit.transform(X_train)"
      ],
      "execution_count": 0,
      "outputs": [
        {
          "output_type": "stream",
          "text": [
            "variable not found.\n"
          ],
          "name": "stdout"
        }
      ]
    },
    {
      "metadata": {
        "id": "xJpRex6It1Cl",
        "colab_type": "code",
        "colab": {
          "base_uri": "https://localhost:8080/",
          "height": 52
        },
        "outputId": "3851b8ca-951f-4019-acfa-3fbae8966da7"
      },
      "cell_type": "code",
      "source": [
        "X_train_transformed"
      ],
      "execution_count": 0,
      "outputs": [
        {
          "output_type": "execute_result",
          "data": {
            "text/plain": [
              "<40000x24600 sparse matrix of type '<class 'numpy.float64'>'\n",
              "\twith 1190663 stored elements in Compressed Sparse Row format>"
            ]
          },
          "metadata": {
            "tags": []
          },
          "execution_count": 75
        }
      ]
    },
    {
      "metadata": {
        "id": "xAtTaY4I5YpQ",
        "colab_type": "text"
      },
      "cell_type": "markdown",
      "source": [
        "SVD on Tfidf reviews for kd_tree"
      ]
    },
    {
      "metadata": {
        "id": "wU3cnGWUmlVQ",
        "colab_type": "code",
        "colab": {}
      },
      "cell_type": "code",
      "source": [
        "try:\n",
        "    del(X_train_transformed_svd)\n",
        "except:\n",
        "    print('variable not found.')"
      ],
      "execution_count": 0,
      "outputs": []
    },
    {
      "metadata": {
        "id": "QFOMcHt05Xwf",
        "colab_type": "code",
        "colab": {
          "base_uri": "https://localhost:8080/",
          "height": 35
        },
        "outputId": "cbdbffa8-f834-43e3-b19f-d4135ca10a76"
      },
      "cell_type": "code",
      "source": [
        "svd = TruncatedSVD(n_components=100, random_state = 7)\n",
        "X_train_transformed_svd = svd.fit_transform(X_train_transformed)\n",
        "X_train_transformed_svd.shape"
      ],
      "execution_count": 0,
      "outputs": [
        {
          "output_type": "execute_result",
          "data": {
            "text/plain": [
              "(40000, 100)"
            ]
          },
          "metadata": {
            "tags": []
          },
          "execution_count": 77
        }
      ]
    },
    {
      "metadata": {
        "id": "Zfca8cuf5o0q",
        "colab_type": "code",
        "colab": {}
      },
      "cell_type": "code",
      "source": [
        "try:\n",
        "    del(my_cv)\n",
        "    del(tscv)\n",
        "except:\n",
        "    print('Some variables not found.')\n",
        "\n",
        "tscv = TimeSeriesSplit(n_splits=5)\n",
        "my_cv = tscv.split(X_train_transformed_svd)"
      ],
      "execution_count": 0,
      "outputs": []
    },
    {
      "metadata": {
        "id": "ej3RDMp2570E",
        "colab_type": "code",
        "colab": {}
      },
      "cell_type": "code",
      "source": [
        "knn = KNeighborsClassifier(algorithm = 'kd_tree')\n",
        "\n",
        "param_grid = {\n",
        "                'n_neighbors':[3,5,7,9,11,13,15],\n",
        "                'weights' : ['uniform', 'distance']\n",
        "             }\n",
        "\n",
        "clf = GridSearchCV(estimator=knn, cv=my_cv, param_grid=param_grid, return_train_score=True, n_jobs=-1)"
      ],
      "execution_count": 0,
      "outputs": []
    },
    {
      "metadata": {
        "id": "9cGmp91I6DPs",
        "colab_type": "code",
        "colab": {},
        "outputId": "704914fd-85d8-4900-8060-f5827bc07a20"
      },
      "cell_type": "code",
      "source": [
        "clf.fit(X_train_transformed_svd, y_train)"
      ],
      "execution_count": 0,
      "outputs": [
        {
          "output_type": "execute_result",
          "data": {
            "text/plain": [
              "GridSearchCV(cv=<generator object TimeSeriesSplit.split at 0x7f9024261f10>,\n",
              "       error_score='raise',\n",
              "       estimator=KNeighborsClassifier(algorithm='kd_tree', leaf_size=30, metric='minkowski',\n",
              "           metric_params=None, n_jobs=1, n_neighbors=5, p=2,\n",
              "           weights='uniform'),\n",
              "       fit_params=None, iid=True, n_jobs=-1,\n",
              "       param_grid={'n_neighbors': [3, 5, 7, 9, 11, 13, 15], 'weights': ['uniform', 'distance']},\n",
              "       pre_dispatch='2*n_jobs', refit=True, return_train_score=True,\n",
              "       scoring=None, verbose=0)"
            ]
          },
          "metadata": {
            "tags": []
          },
          "execution_count": 83
        }
      ]
    },
    {
      "metadata": {
        "id": "5ZiDw2MS6KUc",
        "colab_type": "code",
        "colab": {}
      },
      "cell_type": "code",
      "source": [
        "DF_tfidf_kd_train = k_weight_score(clf.cv_results_)"
      ],
      "execution_count": 0,
      "outputs": []
    },
    {
      "metadata": {
        "id": "KrIhYEyymlVb",
        "colab_type": "code",
        "colab": {}
      },
      "cell_type": "code",
      "source": [
        "fname = open('/home/ucanreachtvk/data/knn_pickle_files/DF_tfidf_kd_train_50k.pkl','wb')\n",
        "pickle.dump(DF_tfidf_kd_train,fname)\n",
        "fname.close()"
      ],
      "execution_count": 0,
      "outputs": []
    },
    {
      "metadata": {
        "id": "Es2C-w1I5n7R",
        "colab_type": "text"
      },
      "cell_type": "markdown",
      "source": [
        "\n",
        "\n",
        "---\n",
        "\n"
      ]
    },
    {
      "metadata": {
        "id": "XzpTuZSR7A-z",
        "colab_type": "text"
      },
      "cell_type": "markdown",
      "source": [
        "Tfidf Brute"
      ]
    },
    {
      "metadata": {
        "id": "O6vZO3e4t3Ma",
        "colab_type": "code",
        "colab": {}
      },
      "cell_type": "code",
      "source": [
        "try:\n",
        "    del(my_cv)\n",
        "    del(tscv)\n",
        "except:\n",
        "    print('Some variables not found.')\n",
        "\n",
        "tscv = TimeSeriesSplit(n_splits=5)\n",
        "my_cv = tscv.split(X_train_transformed)"
      ],
      "execution_count": 0,
      "outputs": []
    },
    {
      "metadata": {
        "id": "Td5Ue9kXuslL",
        "colab_type": "code",
        "colab": {}
      },
      "cell_type": "code",
      "source": [
        "del(clf)\n",
        "\n",
        "knn = KNeighborsClassifier(algorithm='brute')\n",
        "param_grid = {\n",
        "                'n_neighbors':[3,5,7,9,11,13,15],\n",
        "                'weights' : ['uniform', 'distance']\n",
        "             }\n",
        "clf = GridSearchCV(estimator=knn, cv=my_cv, param_grid=param_grid, return_train_score=True)"
      ],
      "execution_count": 0,
      "outputs": []
    },
    {
      "metadata": {
        "id": "92kBVKHfuhK5",
        "colab_type": "code",
        "colab": {
          "base_uri": "https://localhost:8080/",
          "height": 177
        },
        "outputId": "c2e0e703-ddb2-4f87-beb3-98c4a2ab884c"
      },
      "cell_type": "code",
      "source": [
        "clf.fit(X_train_transformed, y_train)"
      ],
      "execution_count": 0,
      "outputs": [
        {
          "output_type": "execute_result",
          "data": {
            "text/plain": [
              "GridSearchCV(cv=<generator object TimeSeriesSplit.split at 0x7f902a3f9830>,\n",
              "       error_score='raise',\n",
              "       estimator=KNeighborsClassifier(algorithm='brute', leaf_size=30, metric='minkowski',\n",
              "           metric_params=None, n_jobs=1, n_neighbors=5, p=2,\n",
              "           weights='uniform'),\n",
              "       fit_params=None, iid=True, n_jobs=1,\n",
              "       param_grid={'n_neighbors': [3, 5, 7, 9, 11, 13, 15], 'weights': ['uniform', 'distance']},\n",
              "       pre_dispatch='2*n_jobs', refit=True, return_train_score=True,\n",
              "       scoring=None, verbose=0)"
            ]
          },
          "metadata": {
            "tags": []
          },
          "execution_count": 88
        }
      ]
    },
    {
      "metadata": {
        "id": "hIdyIjE_uoxi",
        "colab_type": "code",
        "colab": {}
      },
      "cell_type": "code",
      "source": [
        "DF_tfidf_brute_train = k_weight_score(clf.cv_results_)"
      ],
      "execution_count": 0,
      "outputs": []
    },
    {
      "metadata": {
        "id": "exvS1vz4mlVu",
        "colab_type": "code",
        "colab": {}
      },
      "cell_type": "code",
      "source": [
        "fname = open('/home/ucanreachtvk/data/knn_pickle_files/DF_tfidf_brute_train.pkl','wb')\n",
        "pickle.dump(DF_tfidf_brute_train,fname)\n",
        "fname.close()"
      ],
      "execution_count": 0,
      "outputs": []
    },
    {
      "metadata": {
        "id": "T45Rvrp8mlVv",
        "colab_type": "code",
        "colab": {},
        "outputId": "0f5826e4-0157-41e9-a952-d0c04ff79bd7"
      },
      "cell_type": "code",
      "source": [
        "plt.figure(figsize=(15,6))\n",
        "\n",
        "plt.subplot(1,2,1)\n",
        "sbn.heatmap(data=DF_tfidf_brute_train.pivot('weight','k','score'), annot=True, linewidth = 0.5)\n",
        "plt.title('BoW | Training/CV set | Brute', fontsize = 15)\n",
        "plt.xlabel('K', fontsize = 14)\n",
        "plt.ylabel('Weight', fontsize = 14)\n",
        "#plt.show()\n",
        "\n",
        "plt.subplot(1,2,2)\n",
        "sbn.heatmap(data=DF_tfidf_kd_train.pivot('weight','k','score'), annot=True, linewidth = 0.5)\n",
        "plt.title('BoW | Training/CV set | kd_tree', fontsize = 15)\n",
        "plt.xlabel('K', fontsize = 14)\n",
        "plt.ylabel('Weight', fontsize = 14)\n",
        "\n",
        "plt.tight_layout()\n",
        "plt.show()"
      ],
      "execution_count": 0,
      "outputs": [
        {
          "output_type": "display_data",
          "data": {
            "image/png": "[encoded data removed]",
            "text/plain": [
              "<Figure size 1080x432 with 4 Axes>"
            ]
          },
          "metadata": {
            "tags": []
          }
        }
      ]
    },
    {
      "metadata": {
        "id": "68IWY5vHwaMm",
        "colab_type": "text"
      },
      "cell_type": "markdown",
      "source": [
        "**Transform test data**"
      ]
    },
    {
      "metadata": {
        "id": "XDQd_cnlwYDb",
        "colab_type": "code",
        "colab": {}
      },
      "cell_type": "code",
      "source": [
        "X_test_transformed = tfidf_fit.transform(X_test)"
      ],
      "execution_count": 0,
      "outputs": []
    },
    {
      "metadata": {
        "id": "VaHHtwg-wkC1",
        "colab_type": "code",
        "colab": {
          "base_uri": "https://localhost:8080/",
          "height": 52
        },
        "outputId": "cc8a4cef-35b5-4a16-a004-78310bf2622a"
      },
      "cell_type": "code",
      "source": [
        "X_test_transformed"
      ],
      "execution_count": 0,
      "outputs": [
        {
          "output_type": "execute_result",
          "data": {
            "text/plain": [
              "<10000x24600 sparse matrix of type '<class 'numpy.float64'>'\n",
              "\twith 291255 stored elements in Compressed Sparse Row format>"
            ]
          },
          "metadata": {
            "tags": []
          },
          "execution_count": 93
        }
      ]
    },
    {
      "metadata": {
        "id": "wBqX5L2Owlu2",
        "colab_type": "code",
        "colab": {
          "base_uri": "https://localhost:8080/",
          "height": 35
        },
        "outputId": "de0a97df-16c8-46d2-cd38-f0da8379b194"
      },
      "cell_type": "code",
      "source": [
        "clf.score(X_test_transformed, y_test)"
      ],
      "execution_count": 0,
      "outputs": [
        {
          "output_type": "execute_result",
          "data": {
            "text/plain": [
              "0.8946"
            ]
          },
          "metadata": {
            "tags": []
          },
          "execution_count": 94
        }
      ]
    },
    {
      "metadata": {
        "id": "CTDTvR5w449s",
        "colab_type": "text"
      },
      "cell_type": "markdown",
      "source": [
        "W2V"
      ]
    },
    {
      "metadata": {
        "id": "MDIic_zc45BC",
        "colab_type": "code",
        "colab": {}
      },
      "cell_type": "code",
      "source": [
        "from gensim.models import Word2Vec\n",
        "from gensim.models import KeyedVectors"
      ],
      "execution_count": 0,
      "outputs": []
    },
    {
      "metadata": {
        "id": "CTLt-4ma45Ga",
        "colab_type": "code",
        "colab": {},
        "outputId": "18e95033-04e9-4637-ee4d-70f757a3ce8c"
      },
      "cell_type": "code",
      "source": [
        "#!pip install --upgrade pip\n",
        "#!pip install gensim\n",
        "#!pip install google-compute-engine"
      ],
      "execution_count": 0,
      "outputs": [
        {
          "output_type": "stream",
          "text": [
            "Requirement already satisfied: google-compute-engine in /home/ucanreachtvk/anaconda3/lib/python3.6/site-packages (2.8.3)\r\n",
            "Requirement already satisfied: distro in /home/ucanreachtvk/anaconda3/lib/python3.6/site-packages (from google-compute-engine) (1.3.0)\r\n",
            "Requirement already satisfied: setuptools in /home/ucanreachtvk/anaconda3/lib/python3.6/site-packages (from google-compute-engine) (39.1.0)\r\n",
            "Requirement already satisfied: boto in /home/ucanreachtvk/anaconda3/lib/python3.6/site-packages (from google-compute-engine) (2.48.0)\r\n"
          ],
          "name": "stdout"
        }
      ]
    },
    {
      "metadata": {
        "id": "6Njy_kcZ5Ed-",
        "colab_type": "code",
        "colab": {}
      },
      "cell_type": "code",
      "source": [
        "# Training a Word2Vec model using our own corpus\n",
        "\n",
        "list_of_reviews = []\n",
        "\n",
        "for review in X_train:\n",
        "    list_of_reviews.append(review.decode('utf-8').split())"
      ],
      "execution_count": 0,
      "outputs": []
    },
    {
      "metadata": {
        "id": "eptY8r215MkE",
        "colab_type": "code",
        "colab": {},
        "outputId": "607f0063-ccdf-42ff-d521-ee260a73e4e3"
      },
      "cell_type": "code",
      "source": [
        "len(list_of_reviews)"
      ],
      "execution_count": 0,
      "outputs": [
        {
          "output_type": "execute_result",
          "data": {
            "text/plain": [
              "40000"
            ]
          },
          "metadata": {
            "tags": []
          },
          "execution_count": 15
        }
      ]
    },
    {
      "metadata": {
        "id": "2xtTH0qG5QYA",
        "colab_type": "code",
        "colab": {}
      },
      "cell_type": "code",
      "source": [
        "w2v_model = Word2Vec(list_of_reviews, min_count=4,size=50,workers=4)"
      ],
      "execution_count": 0,
      "outputs": []
    },
    {
      "metadata": {
        "id": "JpqYvZV45TkP",
        "colab_type": "code",
        "colab": {
          "base_uri": "https://localhost:8080/",
          "height": 35
        },
        "outputId": "da75bf95-1d48-482b-ca6a-592492e4ffe9"
      },
      "cell_type": "code",
      "source": [
        "words = list(w2v_model.wv.vocab)\n",
        "print(len(words))"
      ],
      "execution_count": 0,
      "outputs": [
        {
          "output_type": "stream",
          "text": [
            "9594\n"
          ],
          "name": "stdout"
        }
      ]
    },
    {
      "metadata": {
        "id": "RPgDwQL_mlWB",
        "colab_type": "code",
        "colab": {}
      },
      "cell_type": "code",
      "source": [
        "Calculate Avg. W2V representation of the training corpus."
      ],
      "execution_count": 0,
      "outputs": []
    },
    {
      "metadata": {
        "id": "PfilW1vs5Vw0",
        "colab_type": "code",
        "colab": {}
      },
      "cell_type": "code",
      "source": [
        "corpus_vec_train = np.zeros(shape=(50))\n",
        "\n",
        "for review in X_train:\n",
        "    review_vector = np.zeros(shape=(50))\n",
        "    for word in review.decode('utf-8').split():\n",
        "        try:\n",
        "            \n",
        "            review_vector += w2v_model.wv[word]\n",
        "            \n",
        "        except KeyError:\n",
        "            continue\n",
        "    \n",
        "    review_vector /= 50\n",
        "    corpus_vec_train=np.vstack((corpus_vec_train,review_vector))    \n",
        "corpus_vec_train=np.delete(corpus_vec_train, 0, axis=0)"
      ],
      "execution_count": 0,
      "outputs": []
    },
    {
      "metadata": {
        "id": "tDpeUA8B5lIU",
        "colab_type": "code",
        "colab": {
          "base_uri": "https://localhost:8080/",
          "height": 35
        },
        "outputId": "c1995252-e4ac-45ff-c64e-4090e494ca98"
      },
      "cell_type": "code",
      "source": [
        "corpus_vec_train.shape"
      ],
      "execution_count": 0,
      "outputs": [
        {
          "output_type": "execute_result",
          "data": {
            "text/plain": [
              "(40000, 50)"
            ]
          },
          "metadata": {
            "tags": []
          },
          "execution_count": 29
        }
      ]
    },
    {
      "metadata": {
        "id": "ynF4P2gD5ydw",
        "colab_type": "code",
        "colab": {}
      },
      "cell_type": "code",
      "source": [
        "try:\n",
        "    del(tscv, my_cv)\n",
        "except:\n",
        "    print('variable/s not found.')\n",
        "    \n",
        "tscv = TimeSeriesSplit(n_splits=5)\n",
        "my_cv = tscv.split(corpus_vec_train)"
      ],
      "execution_count": 0,
      "outputs": []
    },
    {
      "metadata": {
        "id": "76uas9H56CEw",
        "colab_type": "code",
        "colab": {}
      },
      "cell_type": "code",
      "source": [
        "try:\n",
        "    del(clf)\n",
        "except:\n",
        "    print('variable not found')"
      ],
      "execution_count": 0,
      "outputs": []
    },
    {
      "metadata": {
        "id": "pwujQ9fp5ohm",
        "colab_type": "code",
        "colab": {}
      },
      "cell_type": "code",
      "source": [
        "#del(clf)\n",
        "knn = KNeighborsClassifier(algorithm='kd_tree')\n",
        "param_grid = {\n",
        "                'n_neighbors':[3,5,7,9,11,13,15],\n",
        "                'weights' : ['uniform', 'distance']\n",
        "             }\n",
        "clf = GridSearchCV(estimator=knn, cv=my_cv, param_grid=param_grid, return_train_score=True, n_jobs=3)"
      ],
      "execution_count": 0,
      "outputs": []
    },
    {
      "metadata": {
        "id": "tcCzPEli6GhO",
        "colab_type": "code",
        "colab": {
          "base_uri": "https://localhost:8080/",
          "height": 177
        },
        "outputId": "ece43182-25e0-425d-c6cb-47cbe8dcf751"
      },
      "cell_type": "code",
      "source": [
        "clf.fit(corpus_vec_train, y_train)"
      ],
      "execution_count": 0,
      "outputs": [
        {
          "output_type": "execute_result",
          "data": {
            "text/plain": [
              "GridSearchCV(cv=<generator object TimeSeriesSplit.split at 0x7f67f87dbf10>,\n",
              "       error_score='raise',\n",
              "       estimator=KNeighborsClassifier(algorithm='kd_tree', leaf_size=30, metric='minkowski',\n",
              "           metric_params=None, n_jobs=1, n_neighbors=5, p=2,\n",
              "           weights='uniform'),\n",
              "       fit_params=None, iid=True, n_jobs=3,\n",
              "       param_grid={'n_neighbors': [3, 5, 7, 9, 11, 13, 15], 'weights': ['uniform', 'distance']},\n",
              "       pre_dispatch='2*n_jobs', refit=True, return_train_score=True,\n",
              "       scoring=None, verbose=0)"
            ]
          },
          "metadata": {
            "tags": []
          },
          "execution_count": 33
        }
      ]
    },
    {
      "metadata": {
        "id": "hYOBE4hImlWR",
        "colab_type": "code",
        "colab": {}
      },
      "cell_type": "code",
      "source": [
        ""
      ],
      "execution_count": 0,
      "outputs": []
    },
    {
      "metadata": {
        "id": "KBkskSfNmlWS",
        "colab_type": "code",
        "colab": {}
      },
      "cell_type": "code",
      "source": [
        "DF_w2v_kd_train = k_weight_score(clf.cv_results_)"
      ],
      "execution_count": 0,
      "outputs": []
    },
    {
      "metadata": {
        "id": "sSRgx3nAmlWU",
        "colab_type": "code",
        "colab": {}
      },
      "cell_type": "code",
      "source": [
        "import pickle\n",
        "fname = open('/home/ucanreachtvk/data/knn_pickle_files/DF_w2v_kd_train_50k.pkl','wb')\n",
        "pickle.dump(DF_w2v_kd_train,fname)\n",
        "fname.close()"
      ],
      "execution_count": 0,
      "outputs": []
    },
    {
      "metadata": {
        "id": "Tw_XTJpEmlWW",
        "colab_type": "code",
        "colab": {}
      },
      "cell_type": "code",
      "source": [
        "del(clf)\n",
        "del(tscv, my_cv)\n",
        "\n",
        "tscv = TimeSeriesSplit(n_splits=5)\n",
        "my_cv = tscv.split(corpus_vec_train)"
      ],
      "execution_count": 0,
      "outputs": []
    },
    {
      "metadata": {
        "id": "KJXZ3pH1mlWY",
        "colab_type": "code",
        "colab": {}
      },
      "cell_type": "code",
      "source": [
        "#del(clf)\n",
        "knn = KNeighborsClassifier(algorithm='brute')\n",
        "param_grid = {\n",
        "                'n_neighbors':[3,5,7,9,11,13,15],\n",
        "                'weights' : ['uniform', 'distance']\n",
        "             }\n",
        "clf = GridSearchCV(estimator=knn, cv=my_cv, param_grid=param_grid, n_jobs=2, return_train_score=True)"
      ],
      "execution_count": 0,
      "outputs": []
    },
    {
      "metadata": {
        "id": "aaMS3PpQmlWZ",
        "colab_type": "code",
        "colab": {},
        "outputId": "93f03ad5-5cbd-4d99-b5c7-ce721db4f0e3"
      },
      "cell_type": "code",
      "source": [
        "clf.fit(corpus_vec_train, y_train)"
      ],
      "execution_count": 0,
      "outputs": [
        {
          "output_type": "execute_result",
          "data": {
            "text/plain": [
              "GridSearchCV(cv=<generator object TimeSeriesSplit.split at 0x7f67f8801f10>,\n",
              "       error_score='raise',\n",
              "       estimator=KNeighborsClassifier(algorithm='brute', leaf_size=30, metric='minkowski',\n",
              "           metric_params=None, n_jobs=1, n_neighbors=5, p=2,\n",
              "           weights='uniform'),\n",
              "       fit_params=None, iid=True, n_jobs=2,\n",
              "       param_grid={'n_neighbors': [3, 5, 7, 9, 11, 13, 15], 'weights': ['uniform', 'distance']},\n",
              "       pre_dispatch='2*n_jobs', refit=True, return_train_score=True,\n",
              "       scoring=None, verbose=0)"
            ]
          },
          "metadata": {
            "tags": []
          },
          "execution_count": 46
        }
      ]
    },
    {
      "metadata": {
        "id": "wxgzvfU4mlWa",
        "colab_type": "code",
        "colab": {}
      },
      "cell_type": "code",
      "source": [
        "DF_w2v_brute_train = k_weight_score(clf.cv_results_)"
      ],
      "execution_count": 0,
      "outputs": []
    },
    {
      "metadata": {
        "id": "PymOLWtYmlWd",
        "colab_type": "code",
        "colab": {},
        "outputId": "e1bc2fd2-2b66-4046-be38-35b7c0424711"
      },
      "cell_type": "code",
      "source": [
        "plt.figure(figsize=(15,6))\n",
        "\n",
        "plt.subplot(1,2,1)\n",
        "sbn.heatmap(data=DF_w2v_brute_train.pivot('weight','k','score'), annot=True, linewidth = 0.5)\n",
        "plt.title('BoW | Training/CV set | Brute', fontsize = 15)\n",
        "plt.xlabel('K', fontsize = 14)\n",
        "plt.ylabel('Weight', fontsize = 14)\n",
        "#plt.show()\n",
        "\n",
        "plt.subplot(1,2,2)\n",
        "sbn.heatmap(data=DF_w2v_kd_train.pivot('weight','k','score'), annot=True, linewidth = 0.5)\n",
        "plt.title('BoW | Training/CV set | kd_tree', fontsize = 15)\n",
        "plt.xlabel('K', fontsize = 14)\n",
        "plt.ylabel('Weight', fontsize = 14)\n",
        "\n",
        "plt.tight_layout()\n",
        "plt.show()"
      ],
      "execution_count": 0,
      "outputs": [
        {
          "output_type": "display_data",
          "data": {
            "image/png": "[encoded data removed]",
            "text/plain": [
              "<Figure size 1080x432 with 4 Axes>"
            ]
          },
          "metadata": {
            "tags": []
          }
        }
      ]
    },
    {
      "metadata": {
        "id": "5j59uon4687g",
        "colab_type": "text"
      },
      "cell_type": "markdown",
      "source": [
        "transform test"
      ]
    },
    {
      "metadata": {
        "id": "8dI0YzZ360zV",
        "colab_type": "code",
        "colab": {}
      },
      "cell_type": "code",
      "source": [
        "corpus_vec_test = np.zeros(shape=(50))\n",
        "\n",
        "for review in X_test:\n",
        "    review_vector = np.zeros(shape=(50))\n",
        "    for word in review.decode('utf-8').split():\n",
        "        try:\n",
        "            \n",
        "            review_vector += w2v_model.wv[word]\n",
        "            \n",
        "        except KeyError:\n",
        "            continue\n",
        "    \n",
        "    review_vector /= 50\n",
        "    corpus_vec_test=np.vstack((corpus_vec_test,review_vector))    \n",
        "corpus_vec_test=np.delete(corpus_vec_test, 0, axis=0)"
      ],
      "execution_count": 0,
      "outputs": []
    },
    {
      "metadata": {
        "id": "bqm5LIIUmlWh",
        "colab_type": "code",
        "colab": {},
        "outputId": "6e6e0179-b8a6-492b-8055-b2cb7df7686f"
      },
      "cell_type": "code",
      "source": [
        "corpus_vec_test.shape"
      ],
      "execution_count": 0,
      "outputs": [
        {
          "output_type": "execute_result",
          "data": {
            "text/plain": [
              "(10000, 50)"
            ]
          },
          "metadata": {
            "tags": []
          },
          "execution_count": 50
        }
      ]
    },
    {
      "metadata": {
        "id": "_cAYu-Sa7ywR",
        "colab_type": "code",
        "colab": {
          "base_uri": "https://localhost:8080/",
          "height": 35
        },
        "outputId": "793c2432-832c-415e-9e88-9bb3ac4058db"
      },
      "cell_type": "code",
      "source": [
        "clf.score(corpus_vec_test, y_test)"
      ],
      "execution_count": 0,
      "outputs": [
        {
          "output_type": "execute_result",
          "data": {
            "text/plain": [
              "0.8962"
            ]
          },
          "metadata": {
            "tags": []
          },
          "execution_count": 51
        }
      ]
    },
    {
      "metadata": {
        "id": "E9ZbLjgm78P4",
        "colab_type": "text"
      },
      "cell_type": "markdown",
      "source": [
        "### Tfidf weighted W2V"
      ]
    },
    {
      "metadata": {
        "id": "L7fsRRL_8JM4",
        "colab_type": "code",
        "colab": {}
      },
      "cell_type": "code",
      "source": [
        "features = tfidf_fit.get_feature_names()"
      ],
      "execution_count": 0,
      "outputs": []
    },
    {
      "metadata": {
        "id": "ji4B73hY8O3S",
        "colab_type": "code",
        "colab": {}
      },
      "cell_type": "code",
      "source": [
        "corpus_train_tfidf_weighted_w2v = np.zeros(shape=(50))\n",
        "\n",
        "review_number = 0\n",
        "\n",
        "for review in X_train:\n",
        "    review_vector_tfidf_weighted = np.zeros(shape=(50))\n",
        "    tfidf_sum = 0\n",
        "    for word in review.decode('utf-8').split():\n",
        "        try:\n",
        "            tfidf_value = X_train_transformed[review_number, features.index(word)]\n",
        "            review_vector_tfidf_weighted += w2v_model.wv[word] * tfidf_value\n",
        "            tfidf_sum += tfidf_value\n",
        "            \n",
        "        except KeyError:\n",
        "            continue\n",
        "    \n",
        "    review_number += 1\n",
        "    \n",
        "    if tfidf_sum !=0:\n",
        "        review_vector_tfidf_weighted /= tfidf_sum\n",
        "    corpus_train_tfidf_weighted_w2v=np.vstack((corpus_train_tfidf_weighted_w2v,review_vector_tfidf_weighted))\n",
        "    \n",
        "corpus_train_tfidf_weighted_w2v = np.delete(corpus_train_tfidf_weighted_w2v, 0, axis=0)"
      ],
      "execution_count": 0,
      "outputs": []
    },
    {
      "metadata": {
        "id": "U7qX1mKf9DPc",
        "colab_type": "code",
        "colab": {
          "base_uri": "https://localhost:8080/",
          "height": 35
        },
        "outputId": "8ac84253-7b75-47f4-bee7-ab106ac99d5d"
      },
      "cell_type": "code",
      "source": [
        "corpus_train_tfidf_weighted_w2v.shape"
      ],
      "execution_count": 0,
      "outputs": [
        {
          "output_type": "execute_result",
          "data": {
            "text/plain": [
              "(40000, 50)"
            ]
          },
          "metadata": {
            "tags": []
          },
          "execution_count": 61
        }
      ]
    },
    {
      "metadata": {
        "id": "cyyhsFRS9qev",
        "colab_type": "code",
        "colab": {}
      },
      "cell_type": "code",
      "source": [
        "try:\n",
        "    del(tscv)\n",
        "    del(my_cv)\n",
        "except:\n",
        "    pass\n",
        "\n",
        "tscv = TimeSeriesSplit(n_splits=5)\n",
        "my_cv = tscv.split(corpus_train_tfidf_weighted_w2v)"
      ],
      "execution_count": 0,
      "outputs": []
    },
    {
      "metadata": {
        "id": "St18VWE8-Eaz",
        "colab_type": "code",
        "colab": {
          "base_uri": "https://localhost:8080/",
          "height": 35
        },
        "outputId": "be25d090-dd02-4630-f1d5-6b3dfc583275"
      },
      "cell_type": "code",
      "source": [
        "my_cv"
      ],
      "execution_count": 0,
      "outputs": [
        {
          "output_type": "execute_result",
          "data": {
            "text/plain": [
              "<generator object TimeSeriesSplit.split at 0x7f67f82fc468>"
            ]
          },
          "metadata": {
            "tags": []
          },
          "execution_count": 63
        }
      ]
    },
    {
      "metadata": {
        "id": "0AnIXU3f-Kbh",
        "colab_type": "code",
        "colab": {}
      },
      "cell_type": "code",
      "source": [
        "del(clf)"
      ],
      "execution_count": 0,
      "outputs": []
    },
    {
      "metadata": {
        "id": "AFUUWA__-UZY",
        "colab_type": "code",
        "colab": {}
      },
      "cell_type": "code",
      "source": [
        "#del(clf)\n",
        "knn = KNeighborsClassifier(algorithm = 'kd_tree')\n",
        "param_grid = {\n",
        "                'n_neighbors':[3,5,7,9,11,13,15],\n",
        "                'weights' : ['uniform', 'distance'],\n",
        "             }\n",
        "clf = GridSearchCV(estimator=knn, cv=my_cv, param_grid=param_grid, n_jobs=-1, return_train_score=True)"
      ],
      "execution_count": 0,
      "outputs": []
    },
    {
      "metadata": {
        "id": "eo9PVx70-YFn",
        "colab_type": "code",
        "colab": {
          "base_uri": "https://localhost:8080/",
          "height": 177
        },
        "outputId": "8a73c8b1-ef2d-4c37-eae2-6285a56813be"
      },
      "cell_type": "code",
      "source": [
        "clf.fit(corpus_train_tfidf_weighted_w2v, y_train)"
      ],
      "execution_count": 0,
      "outputs": [
        {
          "output_type": "execute_result",
          "data": {
            "text/plain": [
              "GridSearchCV(cv=<generator object TimeSeriesSplit.split at 0x7f67f82fc468>,\n",
              "       error_score='raise',\n",
              "       estimator=KNeighborsClassifier(algorithm='kd_tree', leaf_size=30, metric='minkowski',\n",
              "           metric_params=None, n_jobs=1, n_neighbors=5, p=2,\n",
              "           weights='uniform'),\n",
              "       fit_params=None, iid=True, n_jobs=-1,\n",
              "       param_grid={'n_neighbors': [3, 5, 7, 9, 11, 13, 15], 'weights': ['uniform', 'distance']},\n",
              "       pre_dispatch='2*n_jobs', refit=True, return_train_score=True,\n",
              "       scoring=None, verbose=0)"
            ]
          },
          "metadata": {
            "tags": []
          },
          "execution_count": 66
        }
      ]
    },
    {
      "metadata": {
        "id": "Mdh6E5X-mlW1",
        "colab_type": "code",
        "colab": {}
      },
      "cell_type": "code",
      "source": [
        "DF_tfidf_weighted_w2v_kd_train = k_weight_score(clf.cv_results_)"
      ],
      "execution_count": 0,
      "outputs": []
    },
    {
      "metadata": {
        "id": "b4rFmnkdmlW1",
        "colab_type": "code",
        "colab": {}
      },
      "cell_type": "code",
      "source": [
        "try:\n",
        "    \n",
        "    del(clf, tscv, my_cv)\n",
        "except:\n",
        "    print('variables not found.')\n",
        "    \n",
        "tscv = TimeSeriesSplit(n_splits=5)\n",
        "my_cv = tscv.split(corpus_train_tfidf_weighted_w2v)\n",
        "\n",
        "knn = KNeighborsClassifier(algorithm = 'brute')\n",
        "\n",
        "param_grid = {\n",
        "                'n_neighbors':[3,5,7,9,11,13,15],\n",
        "                'weights' : ['uniform', 'distance']\n",
        "             }\n",
        "clf = GridSearchCV(estimator=knn, cv=my_cv, param_grid=param_grid, n_jobs=2, return_train_score=True)"
      ],
      "execution_count": 0,
      "outputs": []
    },
    {
      "metadata": {
        "id": "rqdLekEnmlW1",
        "colab_type": "code",
        "colab": {},
        "outputId": "ed811b9e-cc88-42f9-a3e1-4dc6ddf0cd6d"
      },
      "cell_type": "code",
      "source": [
        "clf.fit(corpus_train_tfidf_weighted_w2v, y_train)"
      ],
      "execution_count": 0,
      "outputs": [
        {
          "output_type": "execute_result",
          "data": {
            "text/plain": [
              "GridSearchCV(cv=<generator object TimeSeriesSplit.split at 0x7f67f82c3e08>,\n",
              "       error_score='raise',\n",
              "       estimator=KNeighborsClassifier(algorithm='brute', leaf_size=30, metric='minkowski',\n",
              "           metric_params=None, n_jobs=1, n_neighbors=5, p=2,\n",
              "           weights='uniform'),\n",
              "       fit_params=None, iid=True, n_jobs=2,\n",
              "       param_grid={'n_neighbors': [3, 5, 7, 9, 11, 13, 15], 'weights': ['uniform', 'distance']},\n",
              "       pre_dispatch='2*n_jobs', refit=True, return_train_score=True,\n",
              "       scoring=None, verbose=0)"
            ]
          },
          "metadata": {
            "tags": []
          },
          "execution_count": 71
        }
      ]
    },
    {
      "metadata": {
        "id": "hr58qb5wmlW2",
        "colab_type": "code",
        "colab": {}
      },
      "cell_type": "code",
      "source": [
        "DF_tfidf_weighted_w2v_brute_train = k_weight_score(clf.cv_results_)"
      ],
      "execution_count": 0,
      "outputs": []
    },
    {
      "metadata": {
        "id": "L-i0ZzSwmlW4",
        "colab_type": "code",
        "colab": {},
        "outputId": "ba02c4de-a980-42c6-8820-db0178ac4967"
      },
      "cell_type": "code",
      "source": [
        "plt.figure(figsize=(15,6))\n",
        "\n",
        "plt.subplot(1,2,1)\n",
        "sbn.heatmap(data=DF_tfidf_weighted_w2v_brute_train.pivot('weight','k','score'), annot=True, linewidth = 0.5)\n",
        "plt.title('BoW | Training/CV set | Brute', fontsize = 15)\n",
        "plt.xlabel('K', fontsize = 14)\n",
        "plt.ylabel('Weight', fontsize = 14)\n",
        "#plt.show()\n",
        "\n",
        "plt.subplot(1,2,2)\n",
        "sbn.heatmap(data=DF_tfidf_weighted_w2v_kd_train.pivot('weight','k','score'), annot=True, linewidth = 0.5)\n",
        "plt.title('BoW | Training/CV set | kd_tree', fontsize = 15)\n",
        "plt.xlabel('K', fontsize = 14)\n",
        "plt.ylabel('Weight', fontsize = 14)\n",
        "\n",
        "plt.tight_layout()\n",
        "plt.show()"
      ],
      "execution_count": 0,
      "outputs": [
        {
          "output_type": "display_data",
          "data": {
            "image/png": "[encoded data removed]",
            "text/plain": [
              "<Figure size 1080x432 with 4 Axes>"
            ]
          },
          "metadata": {
            "tags": []
          }
        }
      ]
    },
    {
      "metadata": {
        "id": "tGittjz_-hzx",
        "colab_type": "text"
      },
      "cell_type": "markdown",
      "source": [
        "Transform test data"
      ]
    },
    {
      "metadata": {
        "id": "0Y530Ua3-uEs",
        "colab_type": "code",
        "colab": {}
      },
      "cell_type": "code",
      "source": [
        "corpus_test_tfidf_weighted_w2v = np.zeros(shape=(50))\n",
        "\n",
        "review_number = 0\n",
        "\n",
        "for review in X_test:\n",
        "    \n",
        "    review_vector_tfidf_weighted = np.zeros(shape=(50))\n",
        "    tfidf_sum = 0\n",
        "    for word in review.decode('utf-8').split():\n",
        "        \n",
        "            flag_tfidf = True\n",
        "            flag_w2v = True\n",
        "            \n",
        "            try:\n",
        "                \n",
        "                tfidf_value = X_train_transformed[review_number, features.index(word)]\n",
        "                    \n",
        "            except ValueError as v:\n",
        "                \n",
        "                flag_tfidf = False\n",
        "                tfidf_value = 1\n",
        "                    \n",
        "            try:\n",
        "                w2v_value = w2v_model.wv[word]\n",
        "                review_vector_tfidf_weighted += w2v_value * tfidf_value    \n",
        "                if flag_tfidf == True:\n",
        "                    tfidf_sum += tfidf_value\n",
        "                    \n",
        "                \n",
        "\n",
        "            except KeyError:\n",
        "                \n",
        "                flag_w2v = False\n",
        "                continue     \n",
        "                    \n",
        "            \n",
        "            #review_vector_tfidf_weighted += w2v_model.wv[word] * tfidf_value\n",
        "            #tfidf_sum += tfidf_value\n",
        "                        \n",
        "            \n",
        "    review_number += 1\n",
        "    if tfidf_sum != 0:\n",
        "        review_vector_tfidf_weighted /= tfidf_sum\n",
        "    corpus_test_tfidf_weighted_w2v=np.vstack((corpus_test_tfidf_weighted_w2v,review_vector_tfidf_weighted))\n",
        "    \n",
        "corpus_test_tfidf_weighted_w2v = np.delete(corpus_test_tfidf_weighted_w2v, 0, axis=0)"
      ],
      "execution_count": 0,
      "outputs": []
    },
    {
      "metadata": {
        "id": "nEgrBvwUJl2u",
        "colab_type": "code",
        "colab": {
          "base_uri": "https://localhost:8080/",
          "height": 35
        },
        "outputId": "b0f44d3c-51d6-4dfc-d0c7-0711f02a1765"
      },
      "cell_type": "code",
      "source": [
        "corpus_test_tfidf_weighted_w2v[~np.isnan(corpus_test_tfidf_weighted_w2v).any(axis=1)].shape"
      ],
      "execution_count": 0,
      "outputs": [
        {
          "output_type": "execute_result",
          "data": {
            "text/plain": [
              "(10000, 50)"
            ]
          },
          "metadata": {
            "tags": []
          },
          "execution_count": 75
        }
      ]
    },
    {
      "metadata": {
        "id": "FA0BP5deAKtP",
        "colab_type": "code",
        "colab": {
          "base_uri": "https://localhost:8080/",
          "height": 35
        },
        "outputId": "17499d7b-f1ca-4e44-ed58-ed3a81b82bde"
      },
      "cell_type": "code",
      "source": [
        "corpus_test_tfidf_weighted_w2v.shape"
      ],
      "execution_count": 0,
      "outputs": [
        {
          "output_type": "execute_result",
          "data": {
            "text/plain": [
              "(10000, 50)"
            ]
          },
          "metadata": {
            "tags": []
          },
          "execution_count": 76
        }
      ]
    },
    {
      "metadata": {
        "id": "zd3Xy3vv_Gkr",
        "colab_type": "code",
        "colab": {
          "base_uri": "https://localhost:8080/",
          "height": 35
        },
        "outputId": "25136ec0-2bb1-478b-a0a5-dff6f5dac0bd"
      },
      "cell_type": "code",
      "source": [
        "clf.score(corpus_test_tfidf_weighted_w2v, y_test)"
      ],
      "execution_count": 0,
      "outputs": [
        {
          "output_type": "execute_result",
          "data": {
            "text/plain": [
              "0.8766"
            ]
          },
          "metadata": {
            "tags": []
          },
          "execution_count": 77
        }
      ]
    }
  ]
}